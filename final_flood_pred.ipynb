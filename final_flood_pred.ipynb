{
 "cells": [
  {
   "cell_type": "code",
   "execution_count": 1,
   "id": "d5c4a65f",
   "metadata": {
    "execution": {
     "iopub.execute_input": "2024-05-30T07:32:41.944035Z",
     "iopub.status.busy": "2024-05-30T07:32:41.943418Z",
     "iopub.status.idle": "2024-05-30T07:32:44.996433Z",
     "shell.execute_reply": "2024-05-30T07:32:44.995162Z"
    },
    "papermill": {
     "duration": 3.070413,
     "end_time": "2024-05-30T07:32:44.999328",
     "exception": false,
     "start_time": "2024-05-30T07:32:41.928915",
     "status": "completed"
    },
    "tags": []
   },
   "outputs": [],
   "source": [
    "import pandas as pd\n",
    "import numpy as np\n",
    "import seaborn as sns\n",
    "import matplotlib.pyplot as plt\n",
    "import os\n",
    "\n",
    "from sklearn.model_selection import train_test_split\n",
    "from sklearn.preprocessing import StandardScaler\n",
    "from sklearn.model_selection import KFold, cross_val_score\n",
    "from sklearn.metrics import r2_score\n",
    "\n",
    "\n",
    "from catboost import CatBoostRegressor\n",
    "from xgboost import XGBRegressor"
   ]
  },
  {
   "cell_type": "code",
   "execution_count": 2,
   "id": "b3392d6e",
   "metadata": {
    "execution": {
     "iopub.execute_input": "2024-05-30T07:32:45.026262Z",
     "iopub.status.busy": "2024-05-30T07:32:45.025699Z",
     "iopub.status.idle": "2024-05-30T07:32:49.749933Z",
     "shell.execute_reply": "2024-05-30T07:32:49.748764Z"
    },
    "papermill": {
     "duration": 4.740956,
     "end_time": "2024-05-30T07:32:49.752740",
     "exception": false,
     "start_time": "2024-05-30T07:32:45.011784",
     "status": "completed"
    },
    "tags": []
   },
   "outputs": [
    {
     "name": "stdout",
     "output_type": "stream",
     "text": [
      "sample_submission.csv\n",
      "train.csv\n",
      "test.csv\n"
     ]
    }
   ],
   "source": [
    "files = []\n",
    "for dirname, _, filenames in os.walk('/kaggle/input/playground-series-s4e5'):\n",
    "    for filename in filenames:\n",
    "        print(filename)\n",
    "        files.append(pd.read_csv(os.path.join(dirname,filename)))"
   ]
  },
  {
   "cell_type": "code",
   "execution_count": 3,
   "id": "f8d03036",
   "metadata": {
    "execution": {
     "iopub.execute_input": "2024-05-30T07:32:49.778994Z",
     "iopub.status.busy": "2024-05-30T07:32:49.778601Z",
     "iopub.status.idle": "2024-05-30T07:32:49.814625Z",
     "shell.execute_reply": "2024-05-30T07:32:49.813577Z"
    },
    "papermill": {
     "duration": 0.052167,
     "end_time": "2024-05-30T07:32:49.817068",
     "exception": false,
     "start_time": "2024-05-30T07:32:49.764901",
     "status": "completed"
    },
    "tags": []
   },
   "outputs": [
    {
     "data": {
      "text/html": [
       "<div>\n",
       "<style scoped>\n",
       "    .dataframe tbody tr th:only-of-type {\n",
       "        vertical-align: middle;\n",
       "    }\n",
       "\n",
       "    .dataframe tbody tr th {\n",
       "        vertical-align: top;\n",
       "    }\n",
       "\n",
       "    .dataframe thead th {\n",
       "        text-align: right;\n",
       "    }\n",
       "</style>\n",
       "<table border=\"1\" class=\"dataframe\">\n",
       "  <thead>\n",
       "    <tr style=\"text-align: right;\">\n",
       "      <th></th>\n",
       "      <th>id</th>\n",
       "      <th>MonsoonIntensity</th>\n",
       "      <th>TopographyDrainage</th>\n",
       "      <th>RiverManagement</th>\n",
       "      <th>Deforestation</th>\n",
       "      <th>Urbanization</th>\n",
       "      <th>ClimateChange</th>\n",
       "      <th>DamsQuality</th>\n",
       "      <th>Siltation</th>\n",
       "      <th>AgriculturalPractices</th>\n",
       "      <th>...</th>\n",
       "      <th>DrainageSystems</th>\n",
       "      <th>CoastalVulnerability</th>\n",
       "      <th>Landslides</th>\n",
       "      <th>Watersheds</th>\n",
       "      <th>DeterioratingInfrastructure</th>\n",
       "      <th>PopulationScore</th>\n",
       "      <th>WetlandLoss</th>\n",
       "      <th>InadequatePlanning</th>\n",
       "      <th>PoliticalFactors</th>\n",
       "      <th>FloodProbability</th>\n",
       "    </tr>\n",
       "  </thead>\n",
       "  <tbody>\n",
       "    <tr>\n",
       "      <th>0</th>\n",
       "      <td>0</td>\n",
       "      <td>5</td>\n",
       "      <td>8</td>\n",
       "      <td>5</td>\n",
       "      <td>8</td>\n",
       "      <td>6</td>\n",
       "      <td>4</td>\n",
       "      <td>4</td>\n",
       "      <td>3</td>\n",
       "      <td>3</td>\n",
       "      <td>...</td>\n",
       "      <td>5</td>\n",
       "      <td>3</td>\n",
       "      <td>3</td>\n",
       "      <td>5</td>\n",
       "      <td>4</td>\n",
       "      <td>7</td>\n",
       "      <td>5</td>\n",
       "      <td>7</td>\n",
       "      <td>3</td>\n",
       "      <td>0.445</td>\n",
       "    </tr>\n",
       "    <tr>\n",
       "      <th>1</th>\n",
       "      <td>1</td>\n",
       "      <td>6</td>\n",
       "      <td>7</td>\n",
       "      <td>4</td>\n",
       "      <td>4</td>\n",
       "      <td>8</td>\n",
       "      <td>8</td>\n",
       "      <td>3</td>\n",
       "      <td>5</td>\n",
       "      <td>4</td>\n",
       "      <td>...</td>\n",
       "      <td>7</td>\n",
       "      <td>2</td>\n",
       "      <td>0</td>\n",
       "      <td>3</td>\n",
       "      <td>5</td>\n",
       "      <td>3</td>\n",
       "      <td>3</td>\n",
       "      <td>4</td>\n",
       "      <td>3</td>\n",
       "      <td>0.450</td>\n",
       "    </tr>\n",
       "    <tr>\n",
       "      <th>2</th>\n",
       "      <td>2</td>\n",
       "      <td>6</td>\n",
       "      <td>5</td>\n",
       "      <td>6</td>\n",
       "      <td>7</td>\n",
       "      <td>3</td>\n",
       "      <td>7</td>\n",
       "      <td>1</td>\n",
       "      <td>5</td>\n",
       "      <td>4</td>\n",
       "      <td>...</td>\n",
       "      <td>7</td>\n",
       "      <td>3</td>\n",
       "      <td>7</td>\n",
       "      <td>5</td>\n",
       "      <td>6</td>\n",
       "      <td>8</td>\n",
       "      <td>2</td>\n",
       "      <td>3</td>\n",
       "      <td>3</td>\n",
       "      <td>0.530</td>\n",
       "    </tr>\n",
       "    <tr>\n",
       "      <th>3</th>\n",
       "      <td>3</td>\n",
       "      <td>3</td>\n",
       "      <td>4</td>\n",
       "      <td>6</td>\n",
       "      <td>5</td>\n",
       "      <td>4</td>\n",
       "      <td>8</td>\n",
       "      <td>4</td>\n",
       "      <td>7</td>\n",
       "      <td>6</td>\n",
       "      <td>...</td>\n",
       "      <td>2</td>\n",
       "      <td>4</td>\n",
       "      <td>7</td>\n",
       "      <td>4</td>\n",
       "      <td>4</td>\n",
       "      <td>6</td>\n",
       "      <td>5</td>\n",
       "      <td>7</td>\n",
       "      <td>5</td>\n",
       "      <td>0.535</td>\n",
       "    </tr>\n",
       "    <tr>\n",
       "      <th>4</th>\n",
       "      <td>4</td>\n",
       "      <td>5</td>\n",
       "      <td>3</td>\n",
       "      <td>2</td>\n",
       "      <td>6</td>\n",
       "      <td>4</td>\n",
       "      <td>4</td>\n",
       "      <td>3</td>\n",
       "      <td>3</td>\n",
       "      <td>3</td>\n",
       "      <td>...</td>\n",
       "      <td>2</td>\n",
       "      <td>2</td>\n",
       "      <td>6</td>\n",
       "      <td>6</td>\n",
       "      <td>4</td>\n",
       "      <td>1</td>\n",
       "      <td>2</td>\n",
       "      <td>3</td>\n",
       "      <td>5</td>\n",
       "      <td>0.415</td>\n",
       "    </tr>\n",
       "  </tbody>\n",
       "</table>\n",
       "<p>5 rows × 22 columns</p>\n",
       "</div>"
      ],
      "text/plain": [
       "   id  MonsoonIntensity  TopographyDrainage  RiverManagement  Deforestation  \\\n",
       "0   0                 5                   8                5              8   \n",
       "1   1                 6                   7                4              4   \n",
       "2   2                 6                   5                6              7   \n",
       "3   3                 3                   4                6              5   \n",
       "4   4                 5                   3                2              6   \n",
       "\n",
       "   Urbanization  ClimateChange  DamsQuality  Siltation  AgriculturalPractices  \\\n",
       "0             6              4            4          3                      3   \n",
       "1             8              8            3          5                      4   \n",
       "2             3              7            1          5                      4   \n",
       "3             4              8            4          7                      6   \n",
       "4             4              4            3          3                      3   \n",
       "\n",
       "   ...  DrainageSystems  CoastalVulnerability  Landslides  Watersheds  \\\n",
       "0  ...                5                     3           3           5   \n",
       "1  ...                7                     2           0           3   \n",
       "2  ...                7                     3           7           5   \n",
       "3  ...                2                     4           7           4   \n",
       "4  ...                2                     2           6           6   \n",
       "\n",
       "   DeterioratingInfrastructure  PopulationScore  WetlandLoss  \\\n",
       "0                            4                7            5   \n",
       "1                            5                3            3   \n",
       "2                            6                8            2   \n",
       "3                            4                6            5   \n",
       "4                            4                1            2   \n",
       "\n",
       "   InadequatePlanning  PoliticalFactors  FloodProbability  \n",
       "0                   7                 3             0.445  \n",
       "1                   4                 3             0.450  \n",
       "2                   3                 3             0.530  \n",
       "3                   7                 5             0.535  \n",
       "4                   3                 5             0.415  \n",
       "\n",
       "[5 rows x 22 columns]"
      ]
     },
     "execution_count": 3,
     "metadata": {},
     "output_type": "execute_result"
    }
   ],
   "source": [
    "df_train = files[1]\n",
    "df_train.head()"
   ]
  },
  {
   "cell_type": "code",
   "execution_count": 4,
   "id": "c8923e2f",
   "metadata": {
    "execution": {
     "iopub.execute_input": "2024-05-30T07:32:49.844151Z",
     "iopub.status.busy": "2024-05-30T07:32:49.843399Z",
     "iopub.status.idle": "2024-05-30T07:32:49.863282Z",
     "shell.execute_reply": "2024-05-30T07:32:49.862133Z"
    },
    "papermill": {
     "duration": 0.036057,
     "end_time": "2024-05-30T07:32:49.865714",
     "exception": false,
     "start_time": "2024-05-30T07:32:49.829657",
     "status": "completed"
    },
    "tags": []
   },
   "outputs": [
    {
     "data": {
      "text/html": [
       "<div>\n",
       "<style scoped>\n",
       "    .dataframe tbody tr th:only-of-type {\n",
       "        vertical-align: middle;\n",
       "    }\n",
       "\n",
       "    .dataframe tbody tr th {\n",
       "        vertical-align: top;\n",
       "    }\n",
       "\n",
       "    .dataframe thead th {\n",
       "        text-align: right;\n",
       "    }\n",
       "</style>\n",
       "<table border=\"1\" class=\"dataframe\">\n",
       "  <thead>\n",
       "    <tr style=\"text-align: right;\">\n",
       "      <th></th>\n",
       "      <th>id</th>\n",
       "      <th>MonsoonIntensity</th>\n",
       "      <th>TopographyDrainage</th>\n",
       "      <th>RiverManagement</th>\n",
       "      <th>Deforestation</th>\n",
       "      <th>Urbanization</th>\n",
       "      <th>ClimateChange</th>\n",
       "      <th>DamsQuality</th>\n",
       "      <th>Siltation</th>\n",
       "      <th>AgriculturalPractices</th>\n",
       "      <th>...</th>\n",
       "      <th>IneffectiveDisasterPreparedness</th>\n",
       "      <th>DrainageSystems</th>\n",
       "      <th>CoastalVulnerability</th>\n",
       "      <th>Landslides</th>\n",
       "      <th>Watersheds</th>\n",
       "      <th>DeterioratingInfrastructure</th>\n",
       "      <th>PopulationScore</th>\n",
       "      <th>WetlandLoss</th>\n",
       "      <th>InadequatePlanning</th>\n",
       "      <th>PoliticalFactors</th>\n",
       "    </tr>\n",
       "  </thead>\n",
       "  <tbody>\n",
       "    <tr>\n",
       "      <th>0</th>\n",
       "      <td>1117957</td>\n",
       "      <td>4</td>\n",
       "      <td>6</td>\n",
       "      <td>3</td>\n",
       "      <td>5</td>\n",
       "      <td>6</td>\n",
       "      <td>7</td>\n",
       "      <td>8</td>\n",
       "      <td>7</td>\n",
       "      <td>8</td>\n",
       "      <td>...</td>\n",
       "      <td>8</td>\n",
       "      <td>5</td>\n",
       "      <td>7</td>\n",
       "      <td>5</td>\n",
       "      <td>6</td>\n",
       "      <td>3</td>\n",
       "      <td>6</td>\n",
       "      <td>4</td>\n",
       "      <td>4</td>\n",
       "      <td>5</td>\n",
       "    </tr>\n",
       "    <tr>\n",
       "      <th>1</th>\n",
       "      <td>1117958</td>\n",
       "      <td>4</td>\n",
       "      <td>4</td>\n",
       "      <td>2</td>\n",
       "      <td>9</td>\n",
       "      <td>5</td>\n",
       "      <td>5</td>\n",
       "      <td>4</td>\n",
       "      <td>7</td>\n",
       "      <td>5</td>\n",
       "      <td>...</td>\n",
       "      <td>2</td>\n",
       "      <td>4</td>\n",
       "      <td>7</td>\n",
       "      <td>4</td>\n",
       "      <td>5</td>\n",
       "      <td>1</td>\n",
       "      <td>7</td>\n",
       "      <td>4</td>\n",
       "      <td>4</td>\n",
       "      <td>3</td>\n",
       "    </tr>\n",
       "    <tr>\n",
       "      <th>2</th>\n",
       "      <td>1117959</td>\n",
       "      <td>1</td>\n",
       "      <td>3</td>\n",
       "      <td>6</td>\n",
       "      <td>5</td>\n",
       "      <td>7</td>\n",
       "      <td>2</td>\n",
       "      <td>4</td>\n",
       "      <td>6</td>\n",
       "      <td>4</td>\n",
       "      <td>...</td>\n",
       "      <td>7</td>\n",
       "      <td>9</td>\n",
       "      <td>2</td>\n",
       "      <td>5</td>\n",
       "      <td>5</td>\n",
       "      <td>2</td>\n",
       "      <td>3</td>\n",
       "      <td>6</td>\n",
       "      <td>8</td>\n",
       "      <td>3</td>\n",
       "    </tr>\n",
       "    <tr>\n",
       "      <th>3</th>\n",
       "      <td>1117960</td>\n",
       "      <td>2</td>\n",
       "      <td>4</td>\n",
       "      <td>4</td>\n",
       "      <td>6</td>\n",
       "      <td>4</td>\n",
       "      <td>5</td>\n",
       "      <td>4</td>\n",
       "      <td>3</td>\n",
       "      <td>4</td>\n",
       "      <td>...</td>\n",
       "      <td>7</td>\n",
       "      <td>8</td>\n",
       "      <td>4</td>\n",
       "      <td>6</td>\n",
       "      <td>7</td>\n",
       "      <td>6</td>\n",
       "      <td>4</td>\n",
       "      <td>2</td>\n",
       "      <td>4</td>\n",
       "      <td>4</td>\n",
       "    </tr>\n",
       "    <tr>\n",
       "      <th>4</th>\n",
       "      <td>1117961</td>\n",
       "      <td>6</td>\n",
       "      <td>3</td>\n",
       "      <td>2</td>\n",
       "      <td>4</td>\n",
       "      <td>6</td>\n",
       "      <td>4</td>\n",
       "      <td>5</td>\n",
       "      <td>5</td>\n",
       "      <td>3</td>\n",
       "      <td>...</td>\n",
       "      <td>4</td>\n",
       "      <td>3</td>\n",
       "      <td>2</td>\n",
       "      <td>6</td>\n",
       "      <td>4</td>\n",
       "      <td>6</td>\n",
       "      <td>8</td>\n",
       "      <td>4</td>\n",
       "      <td>5</td>\n",
       "      <td>5</td>\n",
       "    </tr>\n",
       "  </tbody>\n",
       "</table>\n",
       "<p>5 rows × 21 columns</p>\n",
       "</div>"
      ],
      "text/plain": [
       "        id  MonsoonIntensity  TopographyDrainage  RiverManagement  \\\n",
       "0  1117957                 4                   6                3   \n",
       "1  1117958                 4                   4                2   \n",
       "2  1117959                 1                   3                6   \n",
       "3  1117960                 2                   4                4   \n",
       "4  1117961                 6                   3                2   \n",
       "\n",
       "   Deforestation  Urbanization  ClimateChange  DamsQuality  Siltation  \\\n",
       "0              5             6              7            8          7   \n",
       "1              9             5              5            4          7   \n",
       "2              5             7              2            4          6   \n",
       "3              6             4              5            4          3   \n",
       "4              4             6              4            5          5   \n",
       "\n",
       "   AgriculturalPractices  ...  IneffectiveDisasterPreparedness  \\\n",
       "0                      8  ...                                8   \n",
       "1                      5  ...                                2   \n",
       "2                      4  ...                                7   \n",
       "3                      4  ...                                7   \n",
       "4                      3  ...                                4   \n",
       "\n",
       "   DrainageSystems  CoastalVulnerability  Landslides  Watersheds  \\\n",
       "0                5                     7           5           6   \n",
       "1                4                     7           4           5   \n",
       "2                9                     2           5           5   \n",
       "3                8                     4           6           7   \n",
       "4                3                     2           6           4   \n",
       "\n",
       "   DeterioratingInfrastructure  PopulationScore  WetlandLoss  \\\n",
       "0                            3                6            4   \n",
       "1                            1                7            4   \n",
       "2                            2                3            6   \n",
       "3                            6                4            2   \n",
       "4                            6                8            4   \n",
       "\n",
       "   InadequatePlanning  PoliticalFactors  \n",
       "0                   4                 5  \n",
       "1                   4                 3  \n",
       "2                   8                 3  \n",
       "3                   4                 4  \n",
       "4                   5                 5  \n",
       "\n",
       "[5 rows x 21 columns]"
      ]
     },
     "execution_count": 4,
     "metadata": {},
     "output_type": "execute_result"
    }
   ],
   "source": [
    "df_test = files[2]\n",
    "df_test.head()"
   ]
  },
  {
   "cell_type": "code",
   "execution_count": 5,
   "id": "0baa475d",
   "metadata": {
    "execution": {
     "iopub.execute_input": "2024-05-30T07:32:49.893494Z",
     "iopub.status.busy": "2024-05-30T07:32:49.893075Z",
     "iopub.status.idle": "2024-05-30T07:32:49.900796Z",
     "shell.execute_reply": "2024-05-30T07:32:49.899590Z"
    },
    "papermill": {
     "duration": 0.024423,
     "end_time": "2024-05-30T07:32:49.903207",
     "exception": false,
     "start_time": "2024-05-30T07:32:49.878784",
     "status": "completed"
    },
    "tags": []
   },
   "outputs": [
    {
     "data": {
      "text/plain": [
       "(1117957, 22)"
      ]
     },
     "execution_count": 5,
     "metadata": {},
     "output_type": "execute_result"
    }
   ],
   "source": [
    "df_train.shape"
   ]
  },
  {
   "cell_type": "code",
   "execution_count": 6,
   "id": "e5e3dcc7",
   "metadata": {
    "execution": {
     "iopub.execute_input": "2024-05-30T07:32:49.932648Z",
     "iopub.status.busy": "2024-05-30T07:32:49.932236Z",
     "iopub.status.idle": "2024-05-30T07:32:49.987784Z",
     "shell.execute_reply": "2024-05-30T07:32:49.986647Z"
    },
    "papermill": {
     "duration": 0.074022,
     "end_time": "2024-05-30T07:32:49.990511",
     "exception": false,
     "start_time": "2024-05-30T07:32:49.916489",
     "status": "completed"
    },
    "tags": []
   },
   "outputs": [
    {
     "name": "stdout",
     "output_type": "stream",
     "text": [
      "<class 'pandas.core.frame.DataFrame'>\n",
      "RangeIndex: 1117957 entries, 0 to 1117956\n",
      "Data columns (total 22 columns):\n",
      " #   Column                           Non-Null Count    Dtype  \n",
      "---  ------                           --------------    -----  \n",
      " 0   id                               1117957 non-null  int64  \n",
      " 1   MonsoonIntensity                 1117957 non-null  int64  \n",
      " 2   TopographyDrainage               1117957 non-null  int64  \n",
      " 3   RiverManagement                  1117957 non-null  int64  \n",
      " 4   Deforestation                    1117957 non-null  int64  \n",
      " 5   Urbanization                     1117957 non-null  int64  \n",
      " 6   ClimateChange                    1117957 non-null  int64  \n",
      " 7   DamsQuality                      1117957 non-null  int64  \n",
      " 8   Siltation                        1117957 non-null  int64  \n",
      " 9   AgriculturalPractices            1117957 non-null  int64  \n",
      " 10  Encroachments                    1117957 non-null  int64  \n",
      " 11  IneffectiveDisasterPreparedness  1117957 non-null  int64  \n",
      " 12  DrainageSystems                  1117957 non-null  int64  \n",
      " 13  CoastalVulnerability             1117957 non-null  int64  \n",
      " 14  Landslides                       1117957 non-null  int64  \n",
      " 15  Watersheds                       1117957 non-null  int64  \n",
      " 16  DeterioratingInfrastructure      1117957 non-null  int64  \n",
      " 17  PopulationScore                  1117957 non-null  int64  \n",
      " 18  WetlandLoss                      1117957 non-null  int64  \n",
      " 19  InadequatePlanning               1117957 non-null  int64  \n",
      " 20  PoliticalFactors                 1117957 non-null  int64  \n",
      " 21  FloodProbability                 1117957 non-null  float64\n",
      "dtypes: float64(1), int64(21)\n",
      "memory usage: 187.6 MB\n"
     ]
    }
   ],
   "source": [
    "df_train.info()"
   ]
  },
  {
   "cell_type": "code",
   "execution_count": 7,
   "id": "ca7e1243",
   "metadata": {
    "execution": {
     "iopub.execute_input": "2024-05-30T07:32:50.018753Z",
     "iopub.status.busy": "2024-05-30T07:32:50.018313Z",
     "iopub.status.idle": "2024-05-30T07:32:50.054623Z",
     "shell.execute_reply": "2024-05-30T07:32:50.053744Z"
    },
    "papermill": {
     "duration": 0.053081,
     "end_time": "2024-05-30T07:32:50.056807",
     "exception": false,
     "start_time": "2024-05-30T07:32:50.003726",
     "status": "completed"
    },
    "tags": []
   },
   "outputs": [
    {
     "data": {
      "text/plain": [
       "id                                 0.0\n",
       "MonsoonIntensity                   0.0\n",
       "TopographyDrainage                 0.0\n",
       "RiverManagement                    0.0\n",
       "Deforestation                      0.0\n",
       "Urbanization                       0.0\n",
       "ClimateChange                      0.0\n",
       "DamsQuality                        0.0\n",
       "Siltation                          0.0\n",
       "AgriculturalPractices              0.0\n",
       "Encroachments                      0.0\n",
       "IneffectiveDisasterPreparedness    0.0\n",
       "DrainageSystems                    0.0\n",
       "CoastalVulnerability               0.0\n",
       "Landslides                         0.0\n",
       "Watersheds                         0.0\n",
       "DeterioratingInfrastructure        0.0\n",
       "PopulationScore                    0.0\n",
       "WetlandLoss                        0.0\n",
       "InadequatePlanning                 0.0\n",
       "PoliticalFactors                   0.0\n",
       "FloodProbability                   0.0\n",
       "dtype: float64"
      ]
     },
     "execution_count": 7,
     "metadata": {},
     "output_type": "execute_result"
    }
   ],
   "source": [
    "df_train.isnull().sum()/len(df_train)*100"
   ]
  },
  {
   "cell_type": "code",
   "execution_count": 8,
   "id": "dbc82401",
   "metadata": {
    "execution": {
     "iopub.execute_input": "2024-05-30T07:32:50.086076Z",
     "iopub.status.busy": "2024-05-30T07:32:50.085466Z",
     "iopub.status.idle": "2024-05-30T07:32:50.542803Z",
     "shell.execute_reply": "2024-05-30T07:32:50.541333Z"
    },
    "papermill": {
     "duration": 0.474685,
     "end_time": "2024-05-30T07:32:50.545182",
     "exception": false,
     "start_time": "2024-05-30T07:32:50.070497",
     "status": "completed"
    },
    "tags": []
   },
   "outputs": [
    {
     "data": {
      "text/plain": [
       "0"
      ]
     },
     "execution_count": 8,
     "metadata": {},
     "output_type": "execute_result"
    }
   ],
   "source": [
    "df_train.duplicated().sum()"
   ]
  },
  {
   "cell_type": "code",
   "execution_count": 9,
   "id": "f83a04a7",
   "metadata": {
    "execution": {
     "iopub.execute_input": "2024-05-30T07:32:50.573704Z",
     "iopub.status.busy": "2024-05-30T07:32:50.573247Z",
     "iopub.status.idle": "2024-05-30T07:32:50.660658Z",
     "shell.execute_reply": "2024-05-30T07:32:50.659221Z"
    },
    "papermill": {
     "duration": 0.104035,
     "end_time": "2024-05-30T07:32:50.662972",
     "exception": false,
     "start_time": "2024-05-30T07:32:50.558937",
     "status": "completed"
    },
    "tags": []
   },
   "outputs": [
    {
     "data": {
      "text/plain": [
       "Index(['id', 'MonsoonIntensity', 'TopographyDrainage', 'RiverManagement',\n",
       "       'Deforestation', 'Urbanization', 'ClimateChange', 'DamsQuality',\n",
       "       'Siltation', 'AgriculturalPractices', 'Encroachments',\n",
       "       'IneffectiveDisasterPreparedness', 'DrainageSystems',\n",
       "       'CoastalVulnerability', 'Landslides', 'Watersheds',\n",
       "       'DeterioratingInfrastructure', 'PopulationScore', 'WetlandLoss',\n",
       "       'InadequatePlanning', 'PoliticalFactors', 'FloodProbability'],\n",
       "      dtype='object')"
      ]
     },
     "execution_count": 9,
     "metadata": {},
     "output_type": "execute_result"
    }
   ],
   "source": [
    "cols = df_train.select_dtypes(include = \"number\").columns\n",
    "cols"
   ]
  },
  {
   "cell_type": "code",
   "execution_count": 10,
   "id": "50116306",
   "metadata": {
    "execution": {
     "iopub.execute_input": "2024-05-30T07:32:50.692583Z",
     "iopub.status.busy": "2024-05-30T07:32:50.692129Z",
     "iopub.status.idle": "2024-05-30T07:32:56.847723Z",
     "shell.execute_reply": "2024-05-30T07:32:56.846380Z"
    },
    "papermill": {
     "duration": 6.173871,
     "end_time": "2024-05-30T07:32:56.850609",
     "exception": false,
     "start_time": "2024-05-30T07:32:50.676738",
     "status": "completed"
    },
    "tags": []
   },
   "outputs": [
    {
     "data": {
      "image/png": "[encoded data removed]",
      "text/plain": [
       "<Figure size 640x480 with 1 Axes>"
      ]
     },
     "metadata": {},
     "output_type": "display_data"
    },
    {
     "data": {
      "image/png": "[encoded data removed]",
      "text/plain": [
       "<Figure size 640x480 with 1 Axes>"
      ]
     },
     "metadata": {},
     "output_type": "display_data"
    },
    {
     "data": {
      "image/png": "[encoded data removed]",
      "text/plain": [
       "<Figure size 640x480 with 1 Axes>"
      ]
     },
     "metadata": {},
     "output_type": "display_data"
    },
    {
     "data": {
      "image/png": "[encoded data removed]",
      "text/plain": [
       "<Figure size 640x480 with 1 Axes>"
      ]
     },
     "metadata": {},
     "output_type": "display_data"
    },
    {
     "data": {
      "image/png": "[encoded data removed]",
      "text/plain": [
       "<Figure size 640x480 with 1 Axes>"
      ]
     },
     "metadata": {},
     "output_type": "display_data"
    },
    {
     "data": {
      "image/png": "[encoded data removed]",
      "text/plain": [
       "<Figure size 640x480 with 1 Axes>"
      ]
     },
     "metadata": {},
     "output_type": "display_data"
    },
    {
     "data": {
      "image/png": "[encoded data removed]",
      "text/plain": [
       "<Figure size 640x480 with 1 Axes>"
      ]
     },
     "metadata": {},
     "output_type": "display_data"
    },
    {
     "data": {
      "image/png": "[encoded data removed]",
      "text/plain": [
       "<Figure size 640x480 with 1 Axes>"
      ]
     },
     "metadata": {},
     "output_type": "display_data"
    },
    {
     "data": {
      "image/png": "[encoded data removed]",
      "text/plain": [
       "<Figure size 640x480 with 1 Axes>"
      ]
     },
     "metadata": {},
     "output_type": "display_data"
    },
    {
     "data": {
      "image/png": "[encoded data removed]",
      "text/plain": [
       "<Figure size 640x480 with 1 Axes>"
      ]
     },
     "metadata": {},
     "output_type": "display_data"
    },
    {
     "data": {
      "image/png": "[encoded data removed]",
      "text/plain": [
       "<Figure size 640x480 with 1 Axes>"
      ]
     },
     "metadata": {},
     "output_type": "display_data"
    },
    {
     "data": {
      "image/png": "[encoded data removed]",
      "text/plain": [
       "<Figure size 640x480 with 1 Axes>"
      ]
     },
     "metadata": {},
     "output_type": "display_data"
    },
    {
     "data": {
      "image/png": "[encoded data removed]",
      "text/plain": [
       "<Figure size 640x480 with 1 Axes>"
      ]
     },
     "metadata": {},
     "output_type": "display_data"
    },
    {
     "data": {
      "image/png": "[encoded data removed]",
      "text/plain": [
       "<Figure size 640x480 with 1 Axes>"
      ]
     },
     "metadata": {},
     "output_type": "display_data"
    },
    {
     "data": {
      "image/png": "[encoded data removed]",
      "text/plain": [
       "<Figure size 640x480 with 1 Axes>"
      ]
     },
     "metadata": {},
     "output_type": "display_data"
    },
    {
     "data": {
      "image/png": "[encoded data removed]",
      "text/plain": [
       "<Figure size 640x480 with 1 Axes>"
      ]
     },
     "metadata": {},
     "output_type": "display_data"
    },
    {
     "data": {
      "image/png": "[encoded data removed]",
      "text/plain": [
       "<Figure size 640x480 with 1 Axes>"
      ]
     },
     "metadata": {},
     "output_type": "display_data"
    },
    {
     "data": {
      "image/png": "[encoded data removed]",
      "text/plain": [
       "<Figure size 640x480 with 1 Axes>"
      ]
     },
     "metadata": {},
     "output_type": "display_data"
    },
    {
     "data": {
      "image/png": "[encoded data removed]",
      "text/plain": [
       "<Figure size 640x480 with 1 Axes>"
      ]
     },
     "metadata": {},
     "output_type": "display_data"
    },
    {
     "data": {
      "image/png": "[encoded data removed]",
      "text/plain": [
       "<Figure size 640x480 with 1 Axes>"
      ]
     },
     "metadata": {},
     "output_type": "display_data"
    },
    {
     "data": {
      "image/png": "[encoded data removed]",
      "text/plain": [
       "<Figure size 640x480 with 1 Axes>"
      ]
     },
     "metadata": {},
     "output_type": "display_data"
    },
    {
     "data": {
      "image/png": "[encoded data removed]",
      "text/plain": [
       "<Figure size 640x480 with 1 Axes>"
      ]
     },
     "metadata": {},
     "output_type": "display_data"
    }
   ],
   "source": [
    "for i in cols:\n",
    "    sns.boxplot(data = df_train, x = i, color = \"green\")\n",
    "    plt.show()"
   ]
  },
  {
   "cell_type": "markdown",
   "id": "848d3204",
   "metadata": {
    "papermill": {
     "duration": 0.019643,
     "end_time": "2024-05-30T07:32:56.890440",
     "exception": false,
     "start_time": "2024-05-30T07:32:56.870797",
     "status": "completed"
    },
    "tags": []
   },
   "source": [
    "Treatment"
   ]
  },
  {
   "cell_type": "code",
   "execution_count": 11,
   "id": "0bf4e716",
   "metadata": {
    "execution": {
     "iopub.execute_input": "2024-05-30T07:32:56.932185Z",
     "iopub.status.busy": "2024-05-30T07:32:56.931486Z",
     "iopub.status.idle": "2024-05-30T07:32:56.937174Z",
     "shell.execute_reply": "2024-05-30T07:32:56.935859Z"
    },
    "papermill": {
     "duration": 0.030011,
     "end_time": "2024-05-30T07:32:56.940108",
     "exception": false,
     "start_time": "2024-05-30T07:32:56.910097",
     "status": "completed"
    },
    "tags": []
   },
   "outputs": [],
   "source": [
    "def wisker(col):\n",
    "    q1, q3 = np.percentile(col, [25, 75])\n",
    "    iqr = q3 - q1\n",
    "    lw = q1 - (1.5)*iqr\n",
    "    uw = q3 + (1.5)*iqr\n",
    "    return lw, uw"
   ]
  },
  {
   "cell_type": "code",
   "execution_count": 12,
   "id": "7f702509",
   "metadata": {
    "execution": {
     "iopub.execute_input": "2024-05-30T07:32:56.982917Z",
     "iopub.status.busy": "2024-05-30T07:32:56.982069Z",
     "iopub.status.idle": "2024-05-30T07:32:57.740532Z",
     "shell.execute_reply": "2024-05-30T07:32:57.739351Z"
    },
    "papermill": {
     "duration": 0.783165,
     "end_time": "2024-05-30T07:32:57.743394",
     "exception": false,
     "start_time": "2024-05-30T07:32:56.960229",
     "status": "completed"
    },
    "tags": []
   },
   "outputs": [],
   "source": [
    "for i in cols:\n",
    "    lw, uw = wisker(df_train[i])\n",
    "    df_train[i] = np.where(df_train[i] < lw , lw, df_train[i])\n",
    "    df_train[i] = np.where(df_train[i] > uw , uw, df_train[i])"
   ]
  },
  {
   "cell_type": "code",
   "execution_count": 13,
   "id": "72fe595f",
   "metadata": {
    "execution": {
     "iopub.execute_input": "2024-05-30T07:32:57.785343Z",
     "iopub.status.busy": "2024-05-30T07:32:57.784347Z",
     "iopub.status.idle": "2024-05-30T07:33:02.988055Z",
     "shell.execute_reply": "2024-05-30T07:33:02.987089Z"
    },
    "papermill": {
     "duration": 5.227389,
     "end_time": "2024-05-30T07:33:02.990574",
     "exception": false,
     "start_time": "2024-05-30T07:32:57.763185",
     "status": "completed"
    },
    "tags": []
   },
   "outputs": [
    {
     "data": {
      "image/png": "[encoded data removed]",
      "text/plain": [
       "<Figure size 640x480 with 1 Axes>"
      ]
     },
     "metadata": {},
     "output_type": "display_data"
    },
    {
     "data": {
      "image/png": "[encoded data removed]",
      "text/plain": [
       "<Figure size 640x480 with 1 Axes>"
      ]
     },
     "metadata": {},
     "output_type": "display_data"
    },
    {
     "data": {
      "image/png": "[encoded data removed]",
      "text/plain": [
       "<Figure size 640x480 with 1 Axes>"
      ]
     },
     "metadata": {},
     "output_type": "display_data"
    },
    {
     "data": {
      "image/png": "[encoded data removed]",
      "text/plain": [
       "<Figure size 640x480 with 1 Axes>"
      ]
     },
     "metadata": {},
     "output_type": "display_data"
    },
    {
     "data": {
      "image/png": "[encoded data removed]",
      "text/plain": [
       "<Figure size 640x480 with 1 Axes>"
      ]
     },
     "metadata": {},
     "output_type": "display_data"
    },
    {
     "data": {
      "image/png": "[encoded data removed]",
      "text/plain": [
       "<Figure size 640x480 with 1 Axes>"
      ]
     },
     "metadata": {},
     "output_type": "display_data"
    },
    {
     "data": {
      "image/png": "[encoded data removed]",
      "text/plain": [
       "<Figure size 640x480 with 1 Axes>"
      ]
     },
     "metadata": {},
     "output_type": "display_data"
    },
    {
     "data": {
      "image/png": "[encoded data removed]",
      "text/plain": [
       "<Figure size 640x480 with 1 Axes>"
      ]
     },
     "metadata": {},
     "output_type": "display_data"
    },
    {
     "data": {
      "image/png": "[encoded data removed]",
      "text/plain": [
       "<Figure size 640x480 with 1 Axes>"
      ]
     },
     "metadata": {},
     "output_type": "display_data"
    },
    {
     "data": {
      "image/png": "[encoded data removed]",
      "text/plain": [
       "<Figure size 640x480 with 1 Axes>"
      ]
     },
     "metadata": {},
     "output_type": "display_data"
    },
    {
     "data": {
      "image/png": "[encoded data removed]",
      "text/plain": [
       "<Figure size 640x480 with 1 Axes>"
      ]
     },
     "metadata": {},
     "output_type": "display_data"
    },
    {
     "data": {
      "image/png": "[encoded data removed]",
      "text/plain": [
       "<Figure size 640x480 with 1 Axes>"
      ]
     },
     "metadata": {},
     "output_type": "display_data"
    },
    {
     "data": {
      "image/png": "[encoded data removed]",
      "text/plain": [
       "<Figure size 640x480 with 1 Axes>"
      ]
     },
     "metadata": {},
     "output_type": "display_data"
    },
    {
     "data": {
      "image/png": "[encoded data removed]",
      "text/plain": [
       "<Figure size 640x480 with 1 Axes>"
      ]
     },
     "metadata": {},
     "output_type": "display_data"
    },
    {
     "data": {
      "image/png": "[encoded data removed]",
      "text/plain": [
       "<Figure size 640x480 with 1 Axes>"
      ]
     },
     "metadata": {},
     "output_type": "display_data"
    },
    {
     "data": {
      "image/png": "[encoded data removed]",
      "text/plain": [
       "<Figure size 640x480 with 1 Axes>"
      ]
     },
     "metadata": {},
     "output_type": "display_data"
    },
    {
     "data": {
      "image/png": "[encoded data removed]",
      "text/plain": [
       "<Figure size 640x480 with 1 Axes>"
      ]
     },
     "metadata": {},
     "output_type": "display_data"
    },
    {
     "data": {
      "image/png": "[encoded data removed]",
      "text/plain": [
       "<Figure size 640x480 with 1 Axes>"
      ]
     },
     "metadata": {},
     "output_type": "display_data"
    },
    {
     "data": {
      "image/png": "[encoded data removed]",
      "text/plain": [
       "<Figure size 640x480 with 1 Axes>"
      ]
     },
     "metadata": {},
     "output_type": "display_data"
    },
    {
     "data": {
      "image/png": "[encoded data removed]",
      "text/plain": [
       "<Figure size 640x480 with 1 Axes>"
      ]
     },
     "metadata": {},
     "output_type": "display_data"
    },
    {
     "data": {
      "image/png": "[encoded data removed]",
      "text/plain": [
       "<Figure size 640x480 with 1 Axes>"
      ]
     },
     "metadata": {},
     "output_type": "display_data"
    },
    {
     "data": {
      "image/png": "[encoded data removed]",
      "text/plain": [
       "<Figure size 640x480 with 1 Axes>"
      ]
     },
     "metadata": {},
     "output_type": "display_data"
    }
   ],
   "source": [
    "for i in cols:\n",
    "    sns.boxplot(data = df_train, x = i, color = \"blue\")\n",
    "    plt.show()"
   ]
  },
  {
   "cell_type": "code",
   "execution_count": 14,
   "id": "945526e0",
   "metadata": {
    "execution": {
     "iopub.execute_input": "2024-05-30T07:33:03.044737Z",
     "iopub.status.busy": "2024-05-30T07:33:03.044029Z",
     "iopub.status.idle": "2024-05-30T07:33:05.548510Z",
     "shell.execute_reply": "2024-05-30T07:33:05.547646Z"
    },
    "papermill": {
     "duration": 2.535653,
     "end_time": "2024-05-30T07:33:05.551614",
     "exception": false,
     "start_time": "2024-05-30T07:33:03.015961",
     "status": "completed"
    },
    "tags": []
   },
   "outputs": [
    {
     "data": {
      "text/plain": [
       "<Axes: >"
      ]
     },
     "execution_count": 14,
     "metadata": {},
     "output_type": "execute_result"
    },
    {
     "data": {
      "image/png": "[encoded data removed]",
      "text/plain": [
       "<Figure size 640x480 with 2 Axes>"
      ]
     },
     "metadata": {},
     "output_type": "display_data"
    }
   ],
   "source": [
    "cor = df_train.select_dtypes(include = \"number\").corr()\n",
    "sns.heatmap(cor)"
   ]
  },
  {
   "cell_type": "code",
   "execution_count": 15,
   "id": "063c5b49",
   "metadata": {
    "execution": {
     "iopub.execute_input": "2024-05-30T07:33:05.610153Z",
     "iopub.status.busy": "2024-05-30T07:33:05.608854Z",
     "iopub.status.idle": "2024-05-30T07:33:05.963500Z",
     "shell.execute_reply": "2024-05-30T07:33:05.962263Z"
    },
    "papermill": {
     "duration": 0.386268,
     "end_time": "2024-05-30T07:33:05.966135",
     "exception": false,
     "start_time": "2024-05-30T07:33:05.579867",
     "status": "completed"
    },
    "tags": []
   },
   "outputs": [
    {
     "data": {
      "text/plain": [
       "id                                -0.000151\n",
       "MonsoonIntensity                   0.189348\n",
       "TopographyDrainage                 0.187798\n",
       "RiverManagement                    0.186980\n",
       "Deforestation                      0.184059\n",
       "Urbanization                       0.180697\n",
       "ClimateChange                      0.184686\n",
       "DamsQuality                        0.187891\n",
       "Siltation                          0.186949\n",
       "AgriculturalPractices              0.183425\n",
       "Encroachments                      0.178874\n",
       "IneffectiveDisasterPreparedness    0.183346\n",
       "DrainageSystems                    0.179022\n",
       "CoastalVulnerability               0.177802\n",
       "Landslides                         0.185393\n",
       "Watersheds                         0.181949\n",
       "DeterioratingInfrastructure        0.190030\n",
       "PopulationScore                    0.185825\n",
       "WetlandLoss                        0.183382\n",
       "InadequatePlanning                 0.181135\n",
       "PoliticalFactors                   0.182374\n",
       "FloodProbability                   1.000000\n",
       "dtype: float64"
      ]
     },
     "execution_count": 15,
     "metadata": {},
     "output_type": "execute_result"
    }
   ],
   "source": [
    "correlations = df_train.corrwith(df_train[\"FloodProbability\"])\n",
    "correlations"
   ]
  },
  {
   "cell_type": "code",
   "execution_count": 16,
   "id": "ff93f818",
   "metadata": {
    "execution": {
     "iopub.execute_input": "2024-05-30T07:33:06.023221Z",
     "iopub.status.busy": "2024-05-30T07:33:06.022832Z",
     "iopub.status.idle": "2024-05-30T07:33:06.797843Z",
     "shell.execute_reply": "2024-05-30T07:33:06.796633Z"
    },
    "papermill": {
     "duration": 0.806494,
     "end_time": "2024-05-30T07:33:06.800438",
     "exception": false,
     "start_time": "2024-05-30T07:33:05.993944",
     "status": "completed"
    },
    "tags": []
   },
   "outputs": [
    {
     "data": {
      "text/html": [
       "<div>\n",
       "<style scoped>\n",
       "    .dataframe tbody tr th:only-of-type {\n",
       "        vertical-align: middle;\n",
       "    }\n",
       "\n",
       "    .dataframe tbody tr th {\n",
       "        vertical-align: top;\n",
       "    }\n",
       "\n",
       "    .dataframe thead th {\n",
       "        text-align: right;\n",
       "    }\n",
       "</style>\n",
       "<table border=\"1\" class=\"dataframe\">\n",
       "  <thead>\n",
       "    <tr style=\"text-align: right;\">\n",
       "      <th></th>\n",
       "      <th>MonsoonIntensity</th>\n",
       "      <th>TopographyDrainage</th>\n",
       "      <th>RiverManagement</th>\n",
       "      <th>Deforestation</th>\n",
       "      <th>Urbanization</th>\n",
       "      <th>ClimateChange</th>\n",
       "      <th>DamsQuality</th>\n",
       "      <th>Siltation</th>\n",
       "      <th>AgriculturalPractices</th>\n",
       "      <th>Encroachments</th>\n",
       "      <th>...</th>\n",
       "      <th>DrainageSystems</th>\n",
       "      <th>CoastalVulnerability</th>\n",
       "      <th>Landslides</th>\n",
       "      <th>Watersheds</th>\n",
       "      <th>DeterioratingInfrastructure</th>\n",
       "      <th>PopulationScore</th>\n",
       "      <th>WetlandLoss</th>\n",
       "      <th>InadequatePlanning</th>\n",
       "      <th>PoliticalFactors</th>\n",
       "      <th>FloodProbability</th>\n",
       "    </tr>\n",
       "  </thead>\n",
       "  <tbody>\n",
       "    <tr>\n",
       "      <th>0</th>\n",
       "      <td>5.0</td>\n",
       "      <td>8.0</td>\n",
       "      <td>5.0</td>\n",
       "      <td>8.0</td>\n",
       "      <td>6.0</td>\n",
       "      <td>4.0</td>\n",
       "      <td>4.0</td>\n",
       "      <td>3.0</td>\n",
       "      <td>3.0</td>\n",
       "      <td>4.0</td>\n",
       "      <td>...</td>\n",
       "      <td>5.0</td>\n",
       "      <td>3.0</td>\n",
       "      <td>3.0</td>\n",
       "      <td>5.0</td>\n",
       "      <td>4.0</td>\n",
       "      <td>7.0</td>\n",
       "      <td>5.0</td>\n",
       "      <td>7.0</td>\n",
       "      <td>3.0</td>\n",
       "      <td>0.445</td>\n",
       "    </tr>\n",
       "    <tr>\n",
       "      <th>1</th>\n",
       "      <td>6.0</td>\n",
       "      <td>7.0</td>\n",
       "      <td>4.0</td>\n",
       "      <td>4.0</td>\n",
       "      <td>8.0</td>\n",
       "      <td>8.0</td>\n",
       "      <td>3.0</td>\n",
       "      <td>5.0</td>\n",
       "      <td>4.0</td>\n",
       "      <td>6.0</td>\n",
       "      <td>...</td>\n",
       "      <td>7.0</td>\n",
       "      <td>2.0</td>\n",
       "      <td>0.0</td>\n",
       "      <td>3.0</td>\n",
       "      <td>5.0</td>\n",
       "      <td>3.0</td>\n",
       "      <td>3.0</td>\n",
       "      <td>4.0</td>\n",
       "      <td>3.0</td>\n",
       "      <td>0.450</td>\n",
       "    </tr>\n",
       "    <tr>\n",
       "      <th>2</th>\n",
       "      <td>6.0</td>\n",
       "      <td>5.0</td>\n",
       "      <td>6.0</td>\n",
       "      <td>7.0</td>\n",
       "      <td>3.0</td>\n",
       "      <td>7.0</td>\n",
       "      <td>1.0</td>\n",
       "      <td>5.0</td>\n",
       "      <td>4.0</td>\n",
       "      <td>5.0</td>\n",
       "      <td>...</td>\n",
       "      <td>7.0</td>\n",
       "      <td>3.0</td>\n",
       "      <td>7.0</td>\n",
       "      <td>5.0</td>\n",
       "      <td>6.0</td>\n",
       "      <td>8.0</td>\n",
       "      <td>2.0</td>\n",
       "      <td>3.0</td>\n",
       "      <td>3.0</td>\n",
       "      <td>0.530</td>\n",
       "    </tr>\n",
       "    <tr>\n",
       "      <th>3</th>\n",
       "      <td>3.0</td>\n",
       "      <td>4.0</td>\n",
       "      <td>6.0</td>\n",
       "      <td>5.0</td>\n",
       "      <td>4.0</td>\n",
       "      <td>8.0</td>\n",
       "      <td>4.0</td>\n",
       "      <td>7.0</td>\n",
       "      <td>6.0</td>\n",
       "      <td>8.0</td>\n",
       "      <td>...</td>\n",
       "      <td>2.0</td>\n",
       "      <td>4.0</td>\n",
       "      <td>7.0</td>\n",
       "      <td>4.0</td>\n",
       "      <td>4.0</td>\n",
       "      <td>6.0</td>\n",
       "      <td>5.0</td>\n",
       "      <td>7.0</td>\n",
       "      <td>5.0</td>\n",
       "      <td>0.535</td>\n",
       "    </tr>\n",
       "    <tr>\n",
       "      <th>4</th>\n",
       "      <td>5.0</td>\n",
       "      <td>3.0</td>\n",
       "      <td>2.0</td>\n",
       "      <td>6.0</td>\n",
       "      <td>4.0</td>\n",
       "      <td>4.0</td>\n",
       "      <td>3.0</td>\n",
       "      <td>3.0</td>\n",
       "      <td>3.0</td>\n",
       "      <td>3.0</td>\n",
       "      <td>...</td>\n",
       "      <td>2.0</td>\n",
       "      <td>2.0</td>\n",
       "      <td>6.0</td>\n",
       "      <td>6.0</td>\n",
       "      <td>4.0</td>\n",
       "      <td>1.0</td>\n",
       "      <td>2.0</td>\n",
       "      <td>3.0</td>\n",
       "      <td>5.0</td>\n",
       "      <td>0.415</td>\n",
       "    </tr>\n",
       "    <tr>\n",
       "      <th>...</th>\n",
       "      <td>...</td>\n",
       "      <td>...</td>\n",
       "      <td>...</td>\n",
       "      <td>...</td>\n",
       "      <td>...</td>\n",
       "      <td>...</td>\n",
       "      <td>...</td>\n",
       "      <td>...</td>\n",
       "      <td>...</td>\n",
       "      <td>...</td>\n",
       "      <td>...</td>\n",
       "      <td>...</td>\n",
       "      <td>...</td>\n",
       "      <td>...</td>\n",
       "      <td>...</td>\n",
       "      <td>...</td>\n",
       "      <td>...</td>\n",
       "      <td>...</td>\n",
       "      <td>...</td>\n",
       "      <td>...</td>\n",
       "      <td>...</td>\n",
       "    </tr>\n",
       "    <tr>\n",
       "      <th>1117952</th>\n",
       "      <td>3.0</td>\n",
       "      <td>3.0</td>\n",
       "      <td>4.0</td>\n",
       "      <td>9.0</td>\n",
       "      <td>4.0</td>\n",
       "      <td>5.0</td>\n",
       "      <td>5.0</td>\n",
       "      <td>7.0</td>\n",
       "      <td>10.0</td>\n",
       "      <td>4.0</td>\n",
       "      <td>...</td>\n",
       "      <td>7.0</td>\n",
       "      <td>8.0</td>\n",
       "      <td>7.0</td>\n",
       "      <td>2.0</td>\n",
       "      <td>2.0</td>\n",
       "      <td>1.0</td>\n",
       "      <td>4.0</td>\n",
       "      <td>6.0</td>\n",
       "      <td>4.0</td>\n",
       "      <td>0.495</td>\n",
       "    </tr>\n",
       "    <tr>\n",
       "      <th>1117953</th>\n",
       "      <td>2.0</td>\n",
       "      <td>2.0</td>\n",
       "      <td>4.0</td>\n",
       "      <td>3.0</td>\n",
       "      <td>9.0</td>\n",
       "      <td>5.0</td>\n",
       "      <td>8.0</td>\n",
       "      <td>1.0</td>\n",
       "      <td>3.0</td>\n",
       "      <td>5.0</td>\n",
       "      <td>...</td>\n",
       "      <td>9.0</td>\n",
       "      <td>4.0</td>\n",
       "      <td>4.0</td>\n",
       "      <td>3.0</td>\n",
       "      <td>7.0</td>\n",
       "      <td>4.0</td>\n",
       "      <td>9.0</td>\n",
       "      <td>4.0</td>\n",
       "      <td>5.0</td>\n",
       "      <td>0.480</td>\n",
       "    </tr>\n",
       "    <tr>\n",
       "      <th>1117954</th>\n",
       "      <td>7.0</td>\n",
       "      <td>3.0</td>\n",
       "      <td>9.0</td>\n",
       "      <td>4.0</td>\n",
       "      <td>6.0</td>\n",
       "      <td>5.0</td>\n",
       "      <td>9.0</td>\n",
       "      <td>1.0</td>\n",
       "      <td>3.0</td>\n",
       "      <td>4.0</td>\n",
       "      <td>...</td>\n",
       "      <td>5.0</td>\n",
       "      <td>5.0</td>\n",
       "      <td>5.0</td>\n",
       "      <td>5.0</td>\n",
       "      <td>6.0</td>\n",
       "      <td>5.0</td>\n",
       "      <td>5.0</td>\n",
       "      <td>2.0</td>\n",
       "      <td>4.0</td>\n",
       "      <td>0.485</td>\n",
       "    </tr>\n",
       "    <tr>\n",
       "      <th>1117955</th>\n",
       "      <td>7.0</td>\n",
       "      <td>3.0</td>\n",
       "      <td>3.0</td>\n",
       "      <td>7.0</td>\n",
       "      <td>5.0</td>\n",
       "      <td>2.0</td>\n",
       "      <td>3.0</td>\n",
       "      <td>4.0</td>\n",
       "      <td>6.0</td>\n",
       "      <td>4.0</td>\n",
       "      <td>...</td>\n",
       "      <td>6.0</td>\n",
       "      <td>8.0</td>\n",
       "      <td>5.0</td>\n",
       "      <td>3.0</td>\n",
       "      <td>4.0</td>\n",
       "      <td>6.0</td>\n",
       "      <td>7.0</td>\n",
       "      <td>6.0</td>\n",
       "      <td>4.0</td>\n",
       "      <td>0.495</td>\n",
       "    </tr>\n",
       "    <tr>\n",
       "      <th>1117956</th>\n",
       "      <td>4.0</td>\n",
       "      <td>5.0</td>\n",
       "      <td>6.0</td>\n",
       "      <td>9.0</td>\n",
       "      <td>5.0</td>\n",
       "      <td>5.0</td>\n",
       "      <td>2.0</td>\n",
       "      <td>8.0</td>\n",
       "      <td>4.0</td>\n",
       "      <td>5.0</td>\n",
       "      <td>...</td>\n",
       "      <td>4.0</td>\n",
       "      <td>8.0</td>\n",
       "      <td>6.0</td>\n",
       "      <td>5.0</td>\n",
       "      <td>5.0</td>\n",
       "      <td>6.0</td>\n",
       "      <td>7.0</td>\n",
       "      <td>7.0</td>\n",
       "      <td>8.0</td>\n",
       "      <td>0.560</td>\n",
       "    </tr>\n",
       "  </tbody>\n",
       "</table>\n",
       "<p>1117957 rows × 21 columns</p>\n",
       "</div>"
      ],
      "text/plain": [
       "         MonsoonIntensity  TopographyDrainage  RiverManagement  Deforestation  \\\n",
       "0                     5.0                 8.0              5.0            8.0   \n",
       "1                     6.0                 7.0              4.0            4.0   \n",
       "2                     6.0                 5.0              6.0            7.0   \n",
       "3                     3.0                 4.0              6.0            5.0   \n",
       "4                     5.0                 3.0              2.0            6.0   \n",
       "...                   ...                 ...              ...            ...   \n",
       "1117952               3.0                 3.0              4.0            9.0   \n",
       "1117953               2.0                 2.0              4.0            3.0   \n",
       "1117954               7.0                 3.0              9.0            4.0   \n",
       "1117955               7.0                 3.0              3.0            7.0   \n",
       "1117956               4.0                 5.0              6.0            9.0   \n",
       "\n",
       "         Urbanization  ClimateChange  DamsQuality  Siltation  \\\n",
       "0                 6.0            4.0          4.0        3.0   \n",
       "1                 8.0            8.0          3.0        5.0   \n",
       "2                 3.0            7.0          1.0        5.0   \n",
       "3                 4.0            8.0          4.0        7.0   \n",
       "4                 4.0            4.0          3.0        3.0   \n",
       "...               ...            ...          ...        ...   \n",
       "1117952           4.0            5.0          5.0        7.0   \n",
       "1117953           9.0            5.0          8.0        1.0   \n",
       "1117954           6.0            5.0          9.0        1.0   \n",
       "1117955           5.0            2.0          3.0        4.0   \n",
       "1117956           5.0            5.0          2.0        8.0   \n",
       "\n",
       "         AgriculturalPractices  Encroachments  ...  DrainageSystems  \\\n",
       "0                          3.0            4.0  ...              5.0   \n",
       "1                          4.0            6.0  ...              7.0   \n",
       "2                          4.0            5.0  ...              7.0   \n",
       "3                          6.0            8.0  ...              2.0   \n",
       "4                          3.0            3.0  ...              2.0   \n",
       "...                        ...            ...  ...              ...   \n",
       "1117952                   10.0            4.0  ...              7.0   \n",
       "1117953                    3.0            5.0  ...              9.0   \n",
       "1117954                    3.0            4.0  ...              5.0   \n",
       "1117955                    6.0            4.0  ...              6.0   \n",
       "1117956                    4.0            5.0  ...              4.0   \n",
       "\n",
       "         CoastalVulnerability  Landslides  Watersheds  \\\n",
       "0                         3.0         3.0         5.0   \n",
       "1                         2.0         0.0         3.0   \n",
       "2                         3.0         7.0         5.0   \n",
       "3                         4.0         7.0         4.0   \n",
       "4                         2.0         6.0         6.0   \n",
       "...                       ...         ...         ...   \n",
       "1117952                   8.0         7.0         2.0   \n",
       "1117953                   4.0         4.0         3.0   \n",
       "1117954                   5.0         5.0         5.0   \n",
       "1117955                   8.0         5.0         3.0   \n",
       "1117956                   8.0         6.0         5.0   \n",
       "\n",
       "         DeterioratingInfrastructure  PopulationScore  WetlandLoss  \\\n",
       "0                                4.0              7.0          5.0   \n",
       "1                                5.0              3.0          3.0   \n",
       "2                                6.0              8.0          2.0   \n",
       "3                                4.0              6.0          5.0   \n",
       "4                                4.0              1.0          2.0   \n",
       "...                              ...              ...          ...   \n",
       "1117952                          2.0              1.0          4.0   \n",
       "1117953                          7.0              4.0          9.0   \n",
       "1117954                          6.0              5.0          5.0   \n",
       "1117955                          4.0              6.0          7.0   \n",
       "1117956                          5.0              6.0          7.0   \n",
       "\n",
       "         InadequatePlanning  PoliticalFactors  FloodProbability  \n",
       "0                       7.0               3.0             0.445  \n",
       "1                       4.0               3.0             0.450  \n",
       "2                       3.0               3.0             0.530  \n",
       "3                       7.0               5.0             0.535  \n",
       "4                       3.0               5.0             0.415  \n",
       "...                     ...               ...               ...  \n",
       "1117952                 6.0               4.0             0.495  \n",
       "1117953                 4.0               5.0             0.480  \n",
       "1117954                 2.0               4.0             0.485  \n",
       "1117955                 6.0               4.0             0.495  \n",
       "1117956                 7.0               8.0             0.560  \n",
       "\n",
       "[1117957 rows x 21 columns]"
      ]
     },
     "execution_count": 16,
     "metadata": {},
     "output_type": "execute_result"
    }
   ],
   "source": [
    "df_train_vf = df_train.drop([\"id\"], axis = 1)\n",
    "df_train_vf"
   ]
  },
  {
   "cell_type": "code",
   "execution_count": 17,
   "id": "a45e8de8",
   "metadata": {
    "execution": {
     "iopub.execute_input": "2024-05-30T07:33:06.858092Z",
     "iopub.status.busy": "2024-05-30T07:33:06.857711Z",
     "iopub.status.idle": "2024-05-30T07:33:07.017608Z",
     "shell.execute_reply": "2024-05-30T07:33:07.016390Z"
    },
    "papermill": {
     "duration": 0.192036,
     "end_time": "2024-05-30T07:33:07.020184",
     "exception": false,
     "start_time": "2024-05-30T07:33:06.828148",
     "status": "completed"
    },
    "tags": []
   },
   "outputs": [
    {
     "data": {
      "text/html": [
       "<div>\n",
       "<style scoped>\n",
       "    .dataframe tbody tr th:only-of-type {\n",
       "        vertical-align: middle;\n",
       "    }\n",
       "\n",
       "    .dataframe tbody tr th {\n",
       "        vertical-align: top;\n",
       "    }\n",
       "\n",
       "    .dataframe thead th {\n",
       "        text-align: right;\n",
       "    }\n",
       "</style>\n",
       "<table border=\"1\" class=\"dataframe\">\n",
       "  <thead>\n",
       "    <tr style=\"text-align: right;\">\n",
       "      <th></th>\n",
       "      <th>MonsoonIntensity</th>\n",
       "      <th>TopographyDrainage</th>\n",
       "      <th>RiverManagement</th>\n",
       "      <th>Deforestation</th>\n",
       "      <th>Urbanization</th>\n",
       "      <th>ClimateChange</th>\n",
       "      <th>DamsQuality</th>\n",
       "      <th>Siltation</th>\n",
       "      <th>AgriculturalPractices</th>\n",
       "      <th>Encroachments</th>\n",
       "      <th>IneffectiveDisasterPreparedness</th>\n",
       "      <th>DrainageSystems</th>\n",
       "      <th>CoastalVulnerability</th>\n",
       "      <th>Landslides</th>\n",
       "      <th>Watersheds</th>\n",
       "      <th>DeterioratingInfrastructure</th>\n",
       "      <th>PopulationScore</th>\n",
       "      <th>WetlandLoss</th>\n",
       "      <th>InadequatePlanning</th>\n",
       "      <th>PoliticalFactors</th>\n",
       "    </tr>\n",
       "  </thead>\n",
       "  <tbody>\n",
       "    <tr>\n",
       "      <th>0</th>\n",
       "      <td>5.0</td>\n",
       "      <td>8.0</td>\n",
       "      <td>5.0</td>\n",
       "      <td>8.0</td>\n",
       "      <td>6.0</td>\n",
       "      <td>4.0</td>\n",
       "      <td>4.0</td>\n",
       "      <td>3.0</td>\n",
       "      <td>3.0</td>\n",
       "      <td>4.0</td>\n",
       "      <td>2.0</td>\n",
       "      <td>5.0</td>\n",
       "      <td>3.0</td>\n",
       "      <td>3.0</td>\n",
       "      <td>5.0</td>\n",
       "      <td>4.0</td>\n",
       "      <td>7.0</td>\n",
       "      <td>5.0</td>\n",
       "      <td>7.0</td>\n",
       "      <td>3.0</td>\n",
       "    </tr>\n",
       "    <tr>\n",
       "      <th>1</th>\n",
       "      <td>6.0</td>\n",
       "      <td>7.0</td>\n",
       "      <td>4.0</td>\n",
       "      <td>4.0</td>\n",
       "      <td>8.0</td>\n",
       "      <td>8.0</td>\n",
       "      <td>3.0</td>\n",
       "      <td>5.0</td>\n",
       "      <td>4.0</td>\n",
       "      <td>6.0</td>\n",
       "      <td>9.0</td>\n",
       "      <td>7.0</td>\n",
       "      <td>2.0</td>\n",
       "      <td>0.0</td>\n",
       "      <td>3.0</td>\n",
       "      <td>5.0</td>\n",
       "      <td>3.0</td>\n",
       "      <td>3.0</td>\n",
       "      <td>4.0</td>\n",
       "      <td>3.0</td>\n",
       "    </tr>\n",
       "    <tr>\n",
       "      <th>2</th>\n",
       "      <td>6.0</td>\n",
       "      <td>5.0</td>\n",
       "      <td>6.0</td>\n",
       "      <td>7.0</td>\n",
       "      <td>3.0</td>\n",
       "      <td>7.0</td>\n",
       "      <td>1.0</td>\n",
       "      <td>5.0</td>\n",
       "      <td>4.0</td>\n",
       "      <td>5.0</td>\n",
       "      <td>6.0</td>\n",
       "      <td>7.0</td>\n",
       "      <td>3.0</td>\n",
       "      <td>7.0</td>\n",
       "      <td>5.0</td>\n",
       "      <td>6.0</td>\n",
       "      <td>8.0</td>\n",
       "      <td>2.0</td>\n",
       "      <td>3.0</td>\n",
       "      <td>3.0</td>\n",
       "    </tr>\n",
       "    <tr>\n",
       "      <th>3</th>\n",
       "      <td>3.0</td>\n",
       "      <td>4.0</td>\n",
       "      <td>6.0</td>\n",
       "      <td>5.0</td>\n",
       "      <td>4.0</td>\n",
       "      <td>8.0</td>\n",
       "      <td>4.0</td>\n",
       "      <td>7.0</td>\n",
       "      <td>6.0</td>\n",
       "      <td>8.0</td>\n",
       "      <td>5.0</td>\n",
       "      <td>2.0</td>\n",
       "      <td>4.0</td>\n",
       "      <td>7.0</td>\n",
       "      <td>4.0</td>\n",
       "      <td>4.0</td>\n",
       "      <td>6.0</td>\n",
       "      <td>5.0</td>\n",
       "      <td>7.0</td>\n",
       "      <td>5.0</td>\n",
       "    </tr>\n",
       "    <tr>\n",
       "      <th>4</th>\n",
       "      <td>5.0</td>\n",
       "      <td>3.0</td>\n",
       "      <td>2.0</td>\n",
       "      <td>6.0</td>\n",
       "      <td>4.0</td>\n",
       "      <td>4.0</td>\n",
       "      <td>3.0</td>\n",
       "      <td>3.0</td>\n",
       "      <td>3.0</td>\n",
       "      <td>3.0</td>\n",
       "      <td>5.0</td>\n",
       "      <td>2.0</td>\n",
       "      <td>2.0</td>\n",
       "      <td>6.0</td>\n",
       "      <td>6.0</td>\n",
       "      <td>4.0</td>\n",
       "      <td>1.0</td>\n",
       "      <td>2.0</td>\n",
       "      <td>3.0</td>\n",
       "      <td>5.0</td>\n",
       "    </tr>\n",
       "    <tr>\n",
       "      <th>...</th>\n",
       "      <td>...</td>\n",
       "      <td>...</td>\n",
       "      <td>...</td>\n",
       "      <td>...</td>\n",
       "      <td>...</td>\n",
       "      <td>...</td>\n",
       "      <td>...</td>\n",
       "      <td>...</td>\n",
       "      <td>...</td>\n",
       "      <td>...</td>\n",
       "      <td>...</td>\n",
       "      <td>...</td>\n",
       "      <td>...</td>\n",
       "      <td>...</td>\n",
       "      <td>...</td>\n",
       "      <td>...</td>\n",
       "      <td>...</td>\n",
       "      <td>...</td>\n",
       "      <td>...</td>\n",
       "      <td>...</td>\n",
       "    </tr>\n",
       "    <tr>\n",
       "      <th>1117952</th>\n",
       "      <td>3.0</td>\n",
       "      <td>3.0</td>\n",
       "      <td>4.0</td>\n",
       "      <td>9.0</td>\n",
       "      <td>4.0</td>\n",
       "      <td>5.0</td>\n",
       "      <td>5.0</td>\n",
       "      <td>7.0</td>\n",
       "      <td>10.0</td>\n",
       "      <td>4.0</td>\n",
       "      <td>3.0</td>\n",
       "      <td>7.0</td>\n",
       "      <td>8.0</td>\n",
       "      <td>7.0</td>\n",
       "      <td>2.0</td>\n",
       "      <td>2.0</td>\n",
       "      <td>1.0</td>\n",
       "      <td>4.0</td>\n",
       "      <td>6.0</td>\n",
       "      <td>4.0</td>\n",
       "    </tr>\n",
       "    <tr>\n",
       "      <th>1117953</th>\n",
       "      <td>2.0</td>\n",
       "      <td>2.0</td>\n",
       "      <td>4.0</td>\n",
       "      <td>3.0</td>\n",
       "      <td>9.0</td>\n",
       "      <td>5.0</td>\n",
       "      <td>8.0</td>\n",
       "      <td>1.0</td>\n",
       "      <td>3.0</td>\n",
       "      <td>5.0</td>\n",
       "      <td>5.0</td>\n",
       "      <td>9.0</td>\n",
       "      <td>4.0</td>\n",
       "      <td>4.0</td>\n",
       "      <td>3.0</td>\n",
       "      <td>7.0</td>\n",
       "      <td>4.0</td>\n",
       "      <td>9.0</td>\n",
       "      <td>4.0</td>\n",
       "      <td>5.0</td>\n",
       "    </tr>\n",
       "    <tr>\n",
       "      <th>1117954</th>\n",
       "      <td>7.0</td>\n",
       "      <td>3.0</td>\n",
       "      <td>9.0</td>\n",
       "      <td>4.0</td>\n",
       "      <td>6.0</td>\n",
       "      <td>5.0</td>\n",
       "      <td>9.0</td>\n",
       "      <td>1.0</td>\n",
       "      <td>3.0</td>\n",
       "      <td>4.0</td>\n",
       "      <td>5.0</td>\n",
       "      <td>5.0</td>\n",
       "      <td>5.0</td>\n",
       "      <td>5.0</td>\n",
       "      <td>5.0</td>\n",
       "      <td>6.0</td>\n",
       "      <td>5.0</td>\n",
       "      <td>5.0</td>\n",
       "      <td>2.0</td>\n",
       "      <td>4.0</td>\n",
       "    </tr>\n",
       "    <tr>\n",
       "      <th>1117955</th>\n",
       "      <td>7.0</td>\n",
       "      <td>3.0</td>\n",
       "      <td>3.0</td>\n",
       "      <td>7.0</td>\n",
       "      <td>5.0</td>\n",
       "      <td>2.0</td>\n",
       "      <td>3.0</td>\n",
       "      <td>4.0</td>\n",
       "      <td>6.0</td>\n",
       "      <td>4.0</td>\n",
       "      <td>6.0</td>\n",
       "      <td>6.0</td>\n",
       "      <td>8.0</td>\n",
       "      <td>5.0</td>\n",
       "      <td>3.0</td>\n",
       "      <td>4.0</td>\n",
       "      <td>6.0</td>\n",
       "      <td>7.0</td>\n",
       "      <td>6.0</td>\n",
       "      <td>4.0</td>\n",
       "    </tr>\n",
       "    <tr>\n",
       "      <th>1117956</th>\n",
       "      <td>4.0</td>\n",
       "      <td>5.0</td>\n",
       "      <td>6.0</td>\n",
       "      <td>9.0</td>\n",
       "      <td>5.0</td>\n",
       "      <td>5.0</td>\n",
       "      <td>2.0</td>\n",
       "      <td>8.0</td>\n",
       "      <td>4.0</td>\n",
       "      <td>5.0</td>\n",
       "      <td>1.0</td>\n",
       "      <td>4.0</td>\n",
       "      <td>8.0</td>\n",
       "      <td>6.0</td>\n",
       "      <td>5.0</td>\n",
       "      <td>5.0</td>\n",
       "      <td>6.0</td>\n",
       "      <td>7.0</td>\n",
       "      <td>7.0</td>\n",
       "      <td>8.0</td>\n",
       "    </tr>\n",
       "  </tbody>\n",
       "</table>\n",
       "<p>1117957 rows × 20 columns</p>\n",
       "</div>"
      ],
      "text/plain": [
       "         MonsoonIntensity  TopographyDrainage  RiverManagement  Deforestation  \\\n",
       "0                     5.0                 8.0              5.0            8.0   \n",
       "1                     6.0                 7.0              4.0            4.0   \n",
       "2                     6.0                 5.0              6.0            7.0   \n",
       "3                     3.0                 4.0              6.0            5.0   \n",
       "4                     5.0                 3.0              2.0            6.0   \n",
       "...                   ...                 ...              ...            ...   \n",
       "1117952               3.0                 3.0              4.0            9.0   \n",
       "1117953               2.0                 2.0              4.0            3.0   \n",
       "1117954               7.0                 3.0              9.0            4.0   \n",
       "1117955               7.0                 3.0              3.0            7.0   \n",
       "1117956               4.0                 5.0              6.0            9.0   \n",
       "\n",
       "         Urbanization  ClimateChange  DamsQuality  Siltation  \\\n",
       "0                 6.0            4.0          4.0        3.0   \n",
       "1                 8.0            8.0          3.0        5.0   \n",
       "2                 3.0            7.0          1.0        5.0   \n",
       "3                 4.0            8.0          4.0        7.0   \n",
       "4                 4.0            4.0          3.0        3.0   \n",
       "...               ...            ...          ...        ...   \n",
       "1117952           4.0            5.0          5.0        7.0   \n",
       "1117953           9.0            5.0          8.0        1.0   \n",
       "1117954           6.0            5.0          9.0        1.0   \n",
       "1117955           5.0            2.0          3.0        4.0   \n",
       "1117956           5.0            5.0          2.0        8.0   \n",
       "\n",
       "         AgriculturalPractices  Encroachments  \\\n",
       "0                          3.0            4.0   \n",
       "1                          4.0            6.0   \n",
       "2                          4.0            5.0   \n",
       "3                          6.0            8.0   \n",
       "4                          3.0            3.0   \n",
       "...                        ...            ...   \n",
       "1117952                   10.0            4.0   \n",
       "1117953                    3.0            5.0   \n",
       "1117954                    3.0            4.0   \n",
       "1117955                    6.0            4.0   \n",
       "1117956                    4.0            5.0   \n",
       "\n",
       "         IneffectiveDisasterPreparedness  DrainageSystems  \\\n",
       "0                                    2.0              5.0   \n",
       "1                                    9.0              7.0   \n",
       "2                                    6.0              7.0   \n",
       "3                                    5.0              2.0   \n",
       "4                                    5.0              2.0   \n",
       "...                                  ...              ...   \n",
       "1117952                              3.0              7.0   \n",
       "1117953                              5.0              9.0   \n",
       "1117954                              5.0              5.0   \n",
       "1117955                              6.0              6.0   \n",
       "1117956                              1.0              4.0   \n",
       "\n",
       "         CoastalVulnerability  Landslides  Watersheds  \\\n",
       "0                         3.0         3.0         5.0   \n",
       "1                         2.0         0.0         3.0   \n",
       "2                         3.0         7.0         5.0   \n",
       "3                         4.0         7.0         4.0   \n",
       "4                         2.0         6.0         6.0   \n",
       "...                       ...         ...         ...   \n",
       "1117952                   8.0         7.0         2.0   \n",
       "1117953                   4.0         4.0         3.0   \n",
       "1117954                   5.0         5.0         5.0   \n",
       "1117955                   8.0         5.0         3.0   \n",
       "1117956                   8.0         6.0         5.0   \n",
       "\n",
       "         DeterioratingInfrastructure  PopulationScore  WetlandLoss  \\\n",
       "0                                4.0              7.0          5.0   \n",
       "1                                5.0              3.0          3.0   \n",
       "2                                6.0              8.0          2.0   \n",
       "3                                4.0              6.0          5.0   \n",
       "4                                4.0              1.0          2.0   \n",
       "...                              ...              ...          ...   \n",
       "1117952                          2.0              1.0          4.0   \n",
       "1117953                          7.0              4.0          9.0   \n",
       "1117954                          6.0              5.0          5.0   \n",
       "1117955                          4.0              6.0          7.0   \n",
       "1117956                          5.0              6.0          7.0   \n",
       "\n",
       "         InadequatePlanning  PoliticalFactors  \n",
       "0                       7.0               3.0  \n",
       "1                       4.0               3.0  \n",
       "2                       3.0               3.0  \n",
       "3                       7.0               5.0  \n",
       "4                       3.0               5.0  \n",
       "...                     ...               ...  \n",
       "1117952                 6.0               4.0  \n",
       "1117953                 4.0               5.0  \n",
       "1117954                 2.0               4.0  \n",
       "1117955                 6.0               4.0  \n",
       "1117956                 7.0               8.0  \n",
       "\n",
       "[1117957 rows x 20 columns]"
      ]
     },
     "execution_count": 17,
     "metadata": {},
     "output_type": "execute_result"
    }
   ],
   "source": [
    "X = df_train_vf.drop([\"FloodProbability\"], axis = 1)\n",
    "X"
   ]
  },
  {
   "cell_type": "code",
   "execution_count": 18,
   "id": "da0bfaf4",
   "metadata": {
    "execution": {
     "iopub.execute_input": "2024-05-30T07:33:07.080969Z",
     "iopub.status.busy": "2024-05-30T07:33:07.080576Z",
     "iopub.status.idle": "2024-05-30T07:33:07.093731Z",
     "shell.execute_reply": "2024-05-30T07:33:07.092587Z"
    },
    "papermill": {
     "duration": 0.046461,
     "end_time": "2024-05-30T07:33:07.096251",
     "exception": false,
     "start_time": "2024-05-30T07:33:07.049790",
     "status": "completed"
    },
    "tags": []
   },
   "outputs": [
    {
     "data": {
      "text/plain": [
       "0          0.445\n",
       "1          0.450\n",
       "2          0.530\n",
       "3          0.535\n",
       "4          0.415\n",
       "           ...  \n",
       "1117952    0.495\n",
       "1117953    0.480\n",
       "1117954    0.485\n",
       "1117955    0.495\n",
       "1117956    0.560\n",
       "Name: FloodProbability, Length: 1117957, dtype: float64"
      ]
     },
     "execution_count": 18,
     "metadata": {},
     "output_type": "execute_result"
    }
   ],
   "source": [
    "y = df_train[\"FloodProbability\"].copy()\n",
    "y"
   ]
  },
  {
   "cell_type": "code",
   "execution_count": 19,
   "id": "3ca2e95f",
   "metadata": {
    "execution": {
     "iopub.execute_input": "2024-05-30T07:33:07.156102Z",
     "iopub.status.busy": "2024-05-30T07:33:07.155721Z",
     "iopub.status.idle": "2024-05-30T07:33:07.216916Z",
     "shell.execute_reply": "2024-05-30T07:33:07.215840Z"
    },
    "papermill": {
     "duration": 0.094241,
     "end_time": "2024-05-30T07:33:07.219466",
     "exception": false,
     "start_time": "2024-05-30T07:33:07.125225",
     "status": "completed"
    },
    "tags": []
   },
   "outputs": [
    {
     "data": {
      "text/html": [
       "<div>\n",
       "<style scoped>\n",
       "    .dataframe tbody tr th:only-of-type {\n",
       "        vertical-align: middle;\n",
       "    }\n",
       "\n",
       "    .dataframe tbody tr th {\n",
       "        vertical-align: top;\n",
       "    }\n",
       "\n",
       "    .dataframe thead th {\n",
       "        text-align: right;\n",
       "    }\n",
       "</style>\n",
       "<table border=\"1\" class=\"dataframe\">\n",
       "  <thead>\n",
       "    <tr style=\"text-align: right;\">\n",
       "      <th></th>\n",
       "      <th>MonsoonIntensity</th>\n",
       "      <th>TopographyDrainage</th>\n",
       "      <th>RiverManagement</th>\n",
       "      <th>Deforestation</th>\n",
       "      <th>Urbanization</th>\n",
       "      <th>ClimateChange</th>\n",
       "      <th>DamsQuality</th>\n",
       "      <th>Siltation</th>\n",
       "      <th>AgriculturalPractices</th>\n",
       "      <th>Encroachments</th>\n",
       "      <th>IneffectiveDisasterPreparedness</th>\n",
       "      <th>DrainageSystems</th>\n",
       "      <th>CoastalVulnerability</th>\n",
       "      <th>Landslides</th>\n",
       "      <th>Watersheds</th>\n",
       "      <th>DeterioratingInfrastructure</th>\n",
       "      <th>PopulationScore</th>\n",
       "      <th>WetlandLoss</th>\n",
       "      <th>InadequatePlanning</th>\n",
       "      <th>PoliticalFactors</th>\n",
       "    </tr>\n",
       "  </thead>\n",
       "  <tbody>\n",
       "    <tr>\n",
       "      <th>0</th>\n",
       "      <td>4</td>\n",
       "      <td>6</td>\n",
       "      <td>3</td>\n",
       "      <td>5</td>\n",
       "      <td>6</td>\n",
       "      <td>7</td>\n",
       "      <td>8</td>\n",
       "      <td>7</td>\n",
       "      <td>8</td>\n",
       "      <td>4</td>\n",
       "      <td>8</td>\n",
       "      <td>5</td>\n",
       "      <td>7</td>\n",
       "      <td>5</td>\n",
       "      <td>6</td>\n",
       "      <td>3</td>\n",
       "      <td>6</td>\n",
       "      <td>4</td>\n",
       "      <td>4</td>\n",
       "      <td>5</td>\n",
       "    </tr>\n",
       "    <tr>\n",
       "      <th>1</th>\n",
       "      <td>4</td>\n",
       "      <td>4</td>\n",
       "      <td>2</td>\n",
       "      <td>9</td>\n",
       "      <td>5</td>\n",
       "      <td>5</td>\n",
       "      <td>4</td>\n",
       "      <td>7</td>\n",
       "      <td>5</td>\n",
       "      <td>4</td>\n",
       "      <td>2</td>\n",
       "      <td>4</td>\n",
       "      <td>7</td>\n",
       "      <td>4</td>\n",
       "      <td>5</td>\n",
       "      <td>1</td>\n",
       "      <td>7</td>\n",
       "      <td>4</td>\n",
       "      <td>4</td>\n",
       "      <td>3</td>\n",
       "    </tr>\n",
       "    <tr>\n",
       "      <th>2</th>\n",
       "      <td>1</td>\n",
       "      <td>3</td>\n",
       "      <td>6</td>\n",
       "      <td>5</td>\n",
       "      <td>7</td>\n",
       "      <td>2</td>\n",
       "      <td>4</td>\n",
       "      <td>6</td>\n",
       "      <td>4</td>\n",
       "      <td>2</td>\n",
       "      <td>7</td>\n",
       "      <td>9</td>\n",
       "      <td>2</td>\n",
       "      <td>5</td>\n",
       "      <td>5</td>\n",
       "      <td>2</td>\n",
       "      <td>3</td>\n",
       "      <td>6</td>\n",
       "      <td>8</td>\n",
       "      <td>3</td>\n",
       "    </tr>\n",
       "    <tr>\n",
       "      <th>3</th>\n",
       "      <td>2</td>\n",
       "      <td>4</td>\n",
       "      <td>4</td>\n",
       "      <td>6</td>\n",
       "      <td>4</td>\n",
       "      <td>5</td>\n",
       "      <td>4</td>\n",
       "      <td>3</td>\n",
       "      <td>4</td>\n",
       "      <td>4</td>\n",
       "      <td>7</td>\n",
       "      <td>8</td>\n",
       "      <td>4</td>\n",
       "      <td>6</td>\n",
       "      <td>7</td>\n",
       "      <td>6</td>\n",
       "      <td>4</td>\n",
       "      <td>2</td>\n",
       "      <td>4</td>\n",
       "      <td>4</td>\n",
       "    </tr>\n",
       "    <tr>\n",
       "      <th>4</th>\n",
       "      <td>6</td>\n",
       "      <td>3</td>\n",
       "      <td>2</td>\n",
       "      <td>4</td>\n",
       "      <td>6</td>\n",
       "      <td>4</td>\n",
       "      <td>5</td>\n",
       "      <td>5</td>\n",
       "      <td>3</td>\n",
       "      <td>7</td>\n",
       "      <td>4</td>\n",
       "      <td>3</td>\n",
       "      <td>2</td>\n",
       "      <td>6</td>\n",
       "      <td>4</td>\n",
       "      <td>6</td>\n",
       "      <td>8</td>\n",
       "      <td>4</td>\n",
       "      <td>5</td>\n",
       "      <td>5</td>\n",
       "    </tr>\n",
       "    <tr>\n",
       "      <th>...</th>\n",
       "      <td>...</td>\n",
       "      <td>...</td>\n",
       "      <td>...</td>\n",
       "      <td>...</td>\n",
       "      <td>...</td>\n",
       "      <td>...</td>\n",
       "      <td>...</td>\n",
       "      <td>...</td>\n",
       "      <td>...</td>\n",
       "      <td>...</td>\n",
       "      <td>...</td>\n",
       "      <td>...</td>\n",
       "      <td>...</td>\n",
       "      <td>...</td>\n",
       "      <td>...</td>\n",
       "      <td>...</td>\n",
       "      <td>...</td>\n",
       "      <td>...</td>\n",
       "      <td>...</td>\n",
       "      <td>...</td>\n",
       "    </tr>\n",
       "    <tr>\n",
       "      <th>745300</th>\n",
       "      <td>5</td>\n",
       "      <td>4</td>\n",
       "      <td>8</td>\n",
       "      <td>3</td>\n",
       "      <td>5</td>\n",
       "      <td>4</td>\n",
       "      <td>4</td>\n",
       "      <td>5</td>\n",
       "      <td>5</td>\n",
       "      <td>5</td>\n",
       "      <td>5</td>\n",
       "      <td>6</td>\n",
       "      <td>1</td>\n",
       "      <td>3</td>\n",
       "      <td>5</td>\n",
       "      <td>6</td>\n",
       "      <td>4</td>\n",
       "      <td>4</td>\n",
       "      <td>6</td>\n",
       "      <td>6</td>\n",
       "    </tr>\n",
       "    <tr>\n",
       "      <th>745301</th>\n",
       "      <td>4</td>\n",
       "      <td>4</td>\n",
       "      <td>2</td>\n",
       "      <td>12</td>\n",
       "      <td>4</td>\n",
       "      <td>3</td>\n",
       "      <td>4</td>\n",
       "      <td>3</td>\n",
       "      <td>5</td>\n",
       "      <td>5</td>\n",
       "      <td>3</td>\n",
       "      <td>7</td>\n",
       "      <td>4</td>\n",
       "      <td>4</td>\n",
       "      <td>3</td>\n",
       "      <td>5</td>\n",
       "      <td>5</td>\n",
       "      <td>3</td>\n",
       "      <td>5</td>\n",
       "      <td>4</td>\n",
       "    </tr>\n",
       "    <tr>\n",
       "      <th>745302</th>\n",
       "      <td>5</td>\n",
       "      <td>7</td>\n",
       "      <td>9</td>\n",
       "      <td>5</td>\n",
       "      <td>5</td>\n",
       "      <td>6</td>\n",
       "      <td>7</td>\n",
       "      <td>5</td>\n",
       "      <td>5</td>\n",
       "      <td>3</td>\n",
       "      <td>6</td>\n",
       "      <td>11</td>\n",
       "      <td>3</td>\n",
       "      <td>11</td>\n",
       "      <td>4</td>\n",
       "      <td>5</td>\n",
       "      <td>9</td>\n",
       "      <td>5</td>\n",
       "      <td>5</td>\n",
       "      <td>4</td>\n",
       "    </tr>\n",
       "    <tr>\n",
       "      <th>745303</th>\n",
       "      <td>4</td>\n",
       "      <td>7</td>\n",
       "      <td>6</td>\n",
       "      <td>3</td>\n",
       "      <td>5</td>\n",
       "      <td>2</td>\n",
       "      <td>3</td>\n",
       "      <td>8</td>\n",
       "      <td>6</td>\n",
       "      <td>7</td>\n",
       "      <td>6</td>\n",
       "      <td>6</td>\n",
       "      <td>8</td>\n",
       "      <td>6</td>\n",
       "      <td>2</td>\n",
       "      <td>3</td>\n",
       "      <td>8</td>\n",
       "      <td>7</td>\n",
       "      <td>5</td>\n",
       "      <td>5</td>\n",
       "    </tr>\n",
       "    <tr>\n",
       "      <th>745304</th>\n",
       "      <td>4</td>\n",
       "      <td>2</td>\n",
       "      <td>5</td>\n",
       "      <td>3</td>\n",
       "      <td>8</td>\n",
       "      <td>4</td>\n",
       "      <td>5</td>\n",
       "      <td>3</td>\n",
       "      <td>5</td>\n",
       "      <td>6</td>\n",
       "      <td>4</td>\n",
       "      <td>2</td>\n",
       "      <td>6</td>\n",
       "      <td>10</td>\n",
       "      <td>4</td>\n",
       "      <td>3</td>\n",
       "      <td>9</td>\n",
       "      <td>8</td>\n",
       "      <td>6</td>\n",
       "      <td>3</td>\n",
       "    </tr>\n",
       "  </tbody>\n",
       "</table>\n",
       "<p>745305 rows × 20 columns</p>\n",
       "</div>"
      ],
      "text/plain": [
       "        MonsoonIntensity  TopographyDrainage  RiverManagement  Deforestation  \\\n",
       "0                      4                   6                3              5   \n",
       "1                      4                   4                2              9   \n",
       "2                      1                   3                6              5   \n",
       "3                      2                   4                4              6   \n",
       "4                      6                   3                2              4   \n",
       "...                  ...                 ...              ...            ...   \n",
       "745300                 5                   4                8              3   \n",
       "745301                 4                   4                2             12   \n",
       "745302                 5                   7                9              5   \n",
       "745303                 4                   7                6              3   \n",
       "745304                 4                   2                5              3   \n",
       "\n",
       "        Urbanization  ClimateChange  DamsQuality  Siltation  \\\n",
       "0                  6              7            8          7   \n",
       "1                  5              5            4          7   \n",
       "2                  7              2            4          6   \n",
       "3                  4              5            4          3   \n",
       "4                  6              4            5          5   \n",
       "...              ...            ...          ...        ...   \n",
       "745300             5              4            4          5   \n",
       "745301             4              3            4          3   \n",
       "745302             5              6            7          5   \n",
       "745303             5              2            3          8   \n",
       "745304             8              4            5          3   \n",
       "\n",
       "        AgriculturalPractices  Encroachments  IneffectiveDisasterPreparedness  \\\n",
       "0                           8              4                                8   \n",
       "1                           5              4                                2   \n",
       "2                           4              2                                7   \n",
       "3                           4              4                                7   \n",
       "4                           3              7                                4   \n",
       "...                       ...            ...                              ...   \n",
       "745300                      5              5                                5   \n",
       "745301                      5              5                                3   \n",
       "745302                      5              3                                6   \n",
       "745303                      6              7                                6   \n",
       "745304                      5              6                                4   \n",
       "\n",
       "        DrainageSystems  CoastalVulnerability  Landslides  Watersheds  \\\n",
       "0                     5                     7           5           6   \n",
       "1                     4                     7           4           5   \n",
       "2                     9                     2           5           5   \n",
       "3                     8                     4           6           7   \n",
       "4                     3                     2           6           4   \n",
       "...                 ...                   ...         ...         ...   \n",
       "745300                6                     1           3           5   \n",
       "745301                7                     4           4           3   \n",
       "745302               11                     3          11           4   \n",
       "745303                6                     8           6           2   \n",
       "745304                2                     6          10           4   \n",
       "\n",
       "        DeterioratingInfrastructure  PopulationScore  WetlandLoss  \\\n",
       "0                                 3                6            4   \n",
       "1                                 1                7            4   \n",
       "2                                 2                3            6   \n",
       "3                                 6                4            2   \n",
       "4                                 6                8            4   \n",
       "...                             ...              ...          ...   \n",
       "745300                            6                4            4   \n",
       "745301                            5                5            3   \n",
       "745302                            5                9            5   \n",
       "745303                            3                8            7   \n",
       "745304                            3                9            8   \n",
       "\n",
       "        InadequatePlanning  PoliticalFactors  \n",
       "0                        4                 5  \n",
       "1                        4                 3  \n",
       "2                        8                 3  \n",
       "3                        4                 4  \n",
       "4                        5                 5  \n",
       "...                    ...               ...  \n",
       "745300                   6                 6  \n",
       "745301                   5                 4  \n",
       "745302                   5                 4  \n",
       "745303                   5                 5  \n",
       "745304                   6                 3  \n",
       "\n",
       "[745305 rows x 20 columns]"
      ]
     },
     "execution_count": 19,
     "metadata": {},
     "output_type": "execute_result"
    }
   ],
   "source": [
    "df_test_vf = df_test.drop([\"id\"], axis = 1)\n",
    "df_test_vf"
   ]
  },
  {
   "cell_type": "code",
   "execution_count": 20,
   "id": "65bdb043",
   "metadata": {
    "execution": {
     "iopub.execute_input": "2024-05-30T07:33:07.280324Z",
     "iopub.status.busy": "2024-05-30T07:33:07.279877Z",
     "iopub.status.idle": "2024-05-30T07:33:07.758018Z",
     "shell.execute_reply": "2024-05-30T07:33:07.756668Z"
    },
    "papermill": {
     "duration": 0.511939,
     "end_time": "2024-05-30T07:33:07.760771",
     "exception": false,
     "start_time": "2024-05-30T07:33:07.248832",
     "status": "completed"
    },
    "tags": []
   },
   "outputs": [
    {
     "data": {
      "text/plain": [
       "((894365, 20), (223592, 20), (894365,), (223592,))"
      ]
     },
     "execution_count": 20,
     "metadata": {},
     "output_type": "execute_result"
    }
   ],
   "source": [
    "X_train, X_test, y_train, y_test = train_test_split(X,y, test_size = 0.2)\n",
    "X_train.shape, X_test.shape, y_train.shape, y_test.shape"
   ]
  },
  {
   "cell_type": "code",
   "execution_count": 21,
   "id": "ca01013b",
   "metadata": {
    "execution": {
     "iopub.execute_input": "2024-05-30T07:33:07.821080Z",
     "iopub.status.busy": "2024-05-30T07:33:07.820703Z",
     "iopub.status.idle": "2024-05-30T07:33:08.046309Z",
     "shell.execute_reply": "2024-05-30T07:33:08.045475Z"
    },
    "papermill": {
     "duration": 0.258701,
     "end_time": "2024-05-30T07:33:08.048570",
     "exception": false,
     "start_time": "2024-05-30T07:33:07.789869",
     "status": "completed"
    },
    "tags": []
   },
   "outputs": [
    {
     "data": {
      "text/html": [
       "<style>#sk-container-id-1 {color: black;background-color: white;}#sk-container-id-1 pre{padding: 0;}#sk-container-id-1 div.sk-toggleable {background-color: white;}#sk-container-id-1 label.sk-toggleable__label {cursor: pointer;display: block;width: 100%;margin-bottom: 0;padding: 0.3em;box-sizing: border-box;text-align: center;}#sk-container-id-1 label.sk-toggleable__label-arrow:before {content: \"▸\";float: left;margin-right: 0.25em;color: #696969;}#sk-container-id-1 label.sk-toggleable__label-arrow:hover:before {color: black;}#sk-container-id-1 div.sk-estimator:hover label.sk-toggleable__label-arrow:before {color: black;}#sk-container-id-1 div.sk-toggleable__content {max-height: 0;max-width: 0;overflow: hidden;text-align: left;background-color: #f0f8ff;}#sk-container-id-1 div.sk-toggleable__content pre {margin: 0.2em;color: black;border-radius: 0.25em;background-color: #f0f8ff;}#sk-container-id-1 input.sk-toggleable__control:checked~div.sk-toggleable__content {max-height: 200px;max-width: 100%;overflow: auto;}#sk-container-id-1 input.sk-toggleable__control:checked~label.sk-toggleable__label-arrow:before {content: \"▾\";}#sk-container-id-1 div.sk-estimator input.sk-toggleable__control:checked~label.sk-toggleable__label {background-color: #d4ebff;}#sk-container-id-1 div.sk-label input.sk-toggleable__control:checked~label.sk-toggleable__label {background-color: #d4ebff;}#sk-container-id-1 input.sk-hidden--visually {border: 0;clip: rect(1px 1px 1px 1px);clip: rect(1px, 1px, 1px, 1px);height: 1px;margin: -1px;overflow: hidden;padding: 0;position: absolute;width: 1px;}#sk-container-id-1 div.sk-estimator {font-family: monospace;background-color: #f0f8ff;border: 1px dotted black;border-radius: 0.25em;box-sizing: border-box;margin-bottom: 0.5em;}#sk-container-id-1 div.sk-estimator:hover {background-color: #d4ebff;}#sk-container-id-1 div.sk-parallel-item::after {content: \"\";width: 100%;border-bottom: 1px solid gray;flex-grow: 1;}#sk-container-id-1 div.sk-label:hover label.sk-toggleable__label {background-color: #d4ebff;}#sk-container-id-1 div.sk-serial::before {content: \"\";position: absolute;border-left: 1px solid gray;box-sizing: border-box;top: 0;bottom: 0;left: 50%;z-index: 0;}#sk-container-id-1 div.sk-serial {display: flex;flex-direction: column;align-items: center;background-color: white;padding-right: 0.2em;padding-left: 0.2em;position: relative;}#sk-container-id-1 div.sk-item {position: relative;z-index: 1;}#sk-container-id-1 div.sk-parallel {display: flex;align-items: stretch;justify-content: center;background-color: white;position: relative;}#sk-container-id-1 div.sk-item::before, #sk-container-id-1 div.sk-parallel-item::before {content: \"\";position: absolute;border-left: 1px solid gray;box-sizing: border-box;top: 0;bottom: 0;left: 50%;z-index: -1;}#sk-container-id-1 div.sk-parallel-item {display: flex;flex-direction: column;z-index: 1;position: relative;background-color: white;}#sk-container-id-1 div.sk-parallel-item:first-child::after {align-self: flex-end;width: 50%;}#sk-container-id-1 div.sk-parallel-item:last-child::after {align-self: flex-start;width: 50%;}#sk-container-id-1 div.sk-parallel-item:only-child::after {width: 0;}#sk-container-id-1 div.sk-dashed-wrapped {border: 1px dashed gray;margin: 0 0.4em 0.5em 0.4em;box-sizing: border-box;padding-bottom: 0.4em;background-color: white;}#sk-container-id-1 div.sk-label label {font-family: monospace;font-weight: bold;display: inline-block;line-height: 1.2em;}#sk-container-id-1 div.sk-label-container {text-align: center;}#sk-container-id-1 div.sk-container {/* jupyter's `normalize.less` sets `[hidden] { display: none; }` but bootstrap.min.css set `[hidden] { display: none !important; }` so we also need the `!important` here to be able to override the default hidden behavior on the sphinx rendered scikit-learn.org. See: https://github.com/scikit-learn/scikit-learn/issues/21755 */display: inline-block !important;position: relative;}#sk-container-id-1 div.sk-text-repr-fallback {display: none;}</style><div id=\"sk-container-id-1\" class=\"sk-top-container\"><div class=\"sk-text-repr-fallback\"><pre>StandardScaler()</pre><b>In a Jupyter environment, please rerun this cell to show the HTML representation or trust the notebook. <br />On GitHub, the HTML representation is unable to render, please try loading this page with nbviewer.org.</b></div><div class=\"sk-container\" hidden><div class=\"sk-item\"><div class=\"sk-estimator sk-toggleable\"><input class=\"sk-toggleable__control sk-hidden--visually\" id=\"sk-estimator-id-1\" type=\"checkbox\" checked><label for=\"sk-estimator-id-1\" class=\"sk-toggleable__label sk-toggleable__label-arrow\">StandardScaler</label><div class=\"sk-toggleable__content\"><pre>StandardScaler()</pre></div></div></div></div></div>"
      ],
      "text/plain": [
       "StandardScaler()"
      ]
     },
     "execution_count": 21,
     "metadata": {},
     "output_type": "execute_result"
    }
   ],
   "source": [
    "scaler = StandardScaler()\n",
    "scaler.fit(X_train)"
   ]
  },
  {
   "cell_type": "code",
   "execution_count": 22,
   "id": "5d7fba56",
   "metadata": {
    "execution": {
     "iopub.execute_input": "2024-05-30T07:33:08.114832Z",
     "iopub.status.busy": "2024-05-30T07:33:08.114417Z",
     "iopub.status.idle": "2024-05-30T07:33:08.258466Z",
     "shell.execute_reply": "2024-05-30T07:33:08.257317Z"
    },
    "papermill": {
     "duration": 0.180068,
     "end_time": "2024-05-30T07:33:08.261031",
     "exception": false,
     "start_time": "2024-05-30T07:33:08.080963",
     "status": "completed"
    },
    "tags": []
   },
   "outputs": [
    {
     "data": {
      "text/plain": [
       "array([[ 0.04343416, -1.41216468, -0.46892582, ...,  0.54848042,\n",
       "         2.46920916,  0.51875017],\n",
       "       [-0.44979194,  0.0399251 ,  1.55708507, ..., -0.97482586,\n",
       "        -0.45422681,  1.00352216],\n",
       "       [-1.43624416, -0.44410482,  2.06358779, ..., -0.4670571 ,\n",
       "         1.4947305 , -1.42033777],\n",
       "       ...,\n",
       "       [ 0.04343416,  1.49201488,  0.54407963, ..., -0.4670571 ,\n",
       "         0.03301252,  0.03397819],\n",
       "       [ 0.04343416,  0.52395503,  1.05058235, ..., -0.97482586,\n",
       "        -0.94146614, -0.93556578],\n",
       "       [ 1.52311248,  1.97604481, -0.46892582, ..., -0.97482586,\n",
       "        -1.42870546,  0.51875017]])"
      ]
     },
     "execution_count": 22,
     "metadata": {},
     "output_type": "execute_result"
    }
   ],
   "source": [
    "X_norm = scaler.transform(X_train)\n",
    "X_norm"
   ]
  },
  {
   "cell_type": "code",
   "execution_count": 23,
   "id": "f5288475",
   "metadata": {
    "execution": {
     "iopub.execute_input": "2024-05-30T07:33:08.323407Z",
     "iopub.status.busy": "2024-05-30T07:33:08.322966Z",
     "iopub.status.idle": "2024-05-30T07:33:08.368230Z",
     "shell.execute_reply": "2024-05-30T07:33:08.367011Z"
    },
    "papermill": {
     "duration": 0.079168,
     "end_time": "2024-05-30T07:33:08.370786",
     "exception": false,
     "start_time": "2024-05-30T07:33:08.291618",
     "status": "completed"
    },
    "tags": []
   },
   "outputs": [
    {
     "data": {
      "text/plain": [
       "array([[ 0.53666027,  1.00798495,  0.0375769 , ...,  1.56401793,\n",
       "         0.52025185, -1.42033777],\n",
       "       [-0.44979194,  1.00798495, -0.46892582, ...,  0.04071166,\n",
       "         0.03301252,  0.51875017],\n",
       "       [-0.94301805,  1.00798495,  2.06358779, ...,  0.54848042,\n",
       "         1.98196983, -0.93556578],\n",
       "       ...,\n",
       "       [-1.43624416, -1.41216468, -0.46892582, ...,  1.05624917,\n",
       "        -0.45422681, -0.93556578],\n",
       "       [-0.44979194, -0.92813475, -0.46892582, ...,  0.04071166,\n",
       "        -1.42870546,  1.00352216],\n",
       "       [ 0.04343416, -0.44410482, -1.98843398, ...,  2.07178669,\n",
       "         2.46920916, -0.4507938 ]])"
      ]
     },
     "execution_count": 23,
     "metadata": {},
     "output_type": "execute_result"
    }
   ],
   "source": [
    "Xt_norm = scaler.transform(X_test)\n",
    "Xt_norm"
   ]
  },
  {
   "cell_type": "code",
   "execution_count": 24,
   "id": "2dd3fc0e",
   "metadata": {
    "execution": {
     "iopub.execute_input": "2024-05-30T07:33:08.433550Z",
     "iopub.status.busy": "2024-05-30T07:33:08.432722Z",
     "iopub.status.idle": "2024-05-30T07:33:08.438621Z",
     "shell.execute_reply": "2024-05-30T07:33:08.437749Z"
    },
    "papermill": {
     "duration": 0.039892,
     "end_time": "2024-05-30T07:33:08.440884",
     "exception": false,
     "start_time": "2024-05-30T07:33:08.400992",
     "status": "completed"
    },
    "tags": []
   },
   "outputs": [],
   "source": [
    "kfold = KFold(n_splits=10, shuffle=True, random_state=42)\n",
    "def model_score(model):\n",
    "    scores = cross_val_score(model, X_norm, y_train, cv=kfold, scoring='r2')\n",
    "    return scores.mean()"
   ]
  },
  {
   "cell_type": "code",
   "execution_count": 25,
   "id": "0f29bd2b",
   "metadata": {
    "execution": {
     "iopub.execute_input": "2024-05-30T07:33:08.503598Z",
     "iopub.status.busy": "2024-05-30T07:33:08.502880Z",
     "iopub.status.idle": "2024-05-30T07:34:40.667356Z",
     "shell.execute_reply": "2024-05-30T07:34:40.666541Z"
    },
    "papermill": {
     "duration": 92.289132,
     "end_time": "2024-05-30T07:34:40.760146",
     "exception": false,
     "start_time": "2024-05-30T07:33:08.471014",
     "status": "completed"
    },
    "tags": []
   },
   "outputs": [
    {
     "name": "stdout",
     "output_type": "stream",
     "text": [
      "CPU times: user 5min 51s, sys: 4.08 s, total: 5min 55s\n",
      "Wall time: 1min 32s\n"
     ]
    },
    {
     "data": {
      "text/plain": [
       "<catboost.core.CatBoostRegressor at 0x78eaa4d00670>"
      ]
     },
     "execution_count": 25,
     "metadata": {},
     "output_type": "execute_result"
    }
   ],
   "source": [
    "%%time\n",
    "model = CatBoostRegressor(verbose = False, allow_writing_files = False)\n",
    "model.fit(X_train, y_train)"
   ]
  },
  {
   "cell_type": "code",
   "execution_count": 26,
   "id": "af365f7c",
   "metadata": {
    "execution": {
     "iopub.execute_input": "2024-05-30T07:34:40.822710Z",
     "iopub.status.busy": "2024-05-30T07:34:40.822011Z",
     "iopub.status.idle": "2024-05-30T07:50:08.325694Z",
     "shell.execute_reply": "2024-05-30T07:50:08.324334Z"
    },
    "papermill": {
     "duration": 927.570139,
     "end_time": "2024-05-30T07:50:08.360524",
     "exception": false,
     "start_time": "2024-05-30T07:34:40.790385",
     "status": "completed"
    },
    "tags": []
   },
   "outputs": [
    {
     "name": "stdout",
     "output_type": "stream",
     "text": [
      "CPU times: user 54min 24s, sys: 38 s, total: 55min 2s\n",
      "Wall time: 15min 27s\n"
     ]
    },
    {
     "data": {
      "text/plain": [
       "0.8413622536328781"
      ]
     },
     "execution_count": 26,
     "metadata": {},
     "output_type": "execute_result"
    }
   ],
   "source": [
    "%%time\n",
    "model_score(model)"
   ]
  },
  {
   "cell_type": "code",
   "execution_count": 27,
   "id": "bea9c944",
   "metadata": {
    "execution": {
     "iopub.execute_input": "2024-05-30T07:50:08.425581Z",
     "iopub.status.busy": "2024-05-30T07:50:08.425168Z",
     "iopub.status.idle": "2024-05-30T07:50:08.560547Z",
     "shell.execute_reply": "2024-05-30T07:50:08.559350Z"
    },
    "papermill": {
     "duration": 0.170854,
     "end_time": "2024-05-30T07:50:08.563012",
     "exception": false,
     "start_time": "2024-05-30T07:50:08.392158",
     "status": "completed"
    },
    "tags": []
   },
   "outputs": [
    {
     "data": {
      "text/plain": [
       "array([0.38959257, 0.36400435, 0.38901697, ..., 0.40591627, 0.40310917,\n",
       "       0.3901106 ])"
      ]
     },
     "execution_count": 27,
     "metadata": {},
     "output_type": "execute_result"
    }
   ],
   "source": [
    "preds = model.predict(Xt_norm)\n",
    "preds"
   ]
  },
  {
   "cell_type": "code",
   "execution_count": 28,
   "id": "4a715bd8",
   "metadata": {
    "execution": {
     "iopub.execute_input": "2024-05-30T07:50:08.627838Z",
     "iopub.status.busy": "2024-05-30T07:50:08.627429Z",
     "iopub.status.idle": "2024-05-30T07:50:08.634208Z",
     "shell.execute_reply": "2024-05-30T07:50:08.633106Z"
    },
    "papermill": {
     "duration": 0.041736,
     "end_time": "2024-05-30T07:50:08.636675",
     "exception": false,
     "start_time": "2024-05-30T07:50:08.594939",
     "status": "completed"
    },
    "tags": []
   },
   "outputs": [
    {
     "data": {
      "text/plain": [
       "(223592,)"
      ]
     },
     "execution_count": 28,
     "metadata": {},
     "output_type": "execute_result"
    }
   ],
   "source": [
    "preds.shape"
   ]
  },
  {
   "cell_type": "code",
   "execution_count": 29,
   "id": "432fb183",
   "metadata": {
    "execution": {
     "iopub.execute_input": "2024-05-30T07:50:08.700711Z",
     "iopub.status.busy": "2024-05-30T07:50:08.700326Z",
     "iopub.status.idle": "2024-05-30T07:50:09.129156Z",
     "shell.execute_reply": "2024-05-30T07:50:09.127981Z"
    },
    "papermill": {
     "duration": 0.463342,
     "end_time": "2024-05-30T07:50:09.131545",
     "exception": false,
     "start_time": "2024-05-30T07:50:08.668203",
     "status": "completed"
    },
    "tags": []
   },
   "outputs": [
    {
     "data": {
      "text/plain": [
       "array([0.5741138 , 0.45707529, 0.4599997 , ..., 0.62317099, 0.55164729,\n",
       "       0.51376335])"
      ]
     },
     "execution_count": 29,
     "metadata": {},
     "output_type": "execute_result"
    }
   ],
   "source": [
    "preds2 = model.predict(df_test_vf)\n",
    "preds2"
   ]
  },
  {
   "cell_type": "code",
   "execution_count": 30,
   "id": "af597abe",
   "metadata": {
    "execution": {
     "iopub.execute_input": "2024-05-30T07:50:09.196511Z",
     "iopub.status.busy": "2024-05-30T07:50:09.196127Z",
     "iopub.status.idle": "2024-05-30T07:50:09.202561Z",
     "shell.execute_reply": "2024-05-30T07:50:09.201545Z"
    },
    "papermill": {
     "duration": 0.041634,
     "end_time": "2024-05-30T07:50:09.205054",
     "exception": false,
     "start_time": "2024-05-30T07:50:09.163420",
     "status": "completed"
    },
    "tags": []
   },
   "outputs": [
    {
     "data": {
      "text/plain": [
       "(745305,)"
      ]
     },
     "execution_count": 30,
     "metadata": {},
     "output_type": "execute_result"
    }
   ],
   "source": [
    "preds2.shape"
   ]
  },
  {
   "cell_type": "code",
   "execution_count": 31,
   "id": "434a90b6",
   "metadata": {
    "execution": {
     "iopub.execute_input": "2024-05-30T07:50:09.272327Z",
     "iopub.status.busy": "2024-05-30T07:50:09.271920Z",
     "iopub.status.idle": "2024-05-30T07:50:09.279116Z",
     "shell.execute_reply": "2024-05-30T07:50:09.277774Z"
    },
    "papermill": {
     "duration": 0.044664,
     "end_time": "2024-05-30T07:50:09.281506",
     "exception": false,
     "start_time": "2024-05-30T07:50:09.236842",
     "status": "completed"
    },
    "tags": []
   },
   "outputs": [
    {
     "data": {
      "text/plain": [
       "(223592,)"
      ]
     },
     "execution_count": 31,
     "metadata": {},
     "output_type": "execute_result"
    }
   ],
   "source": [
    "y_test.shape"
   ]
  },
  {
   "cell_type": "code",
   "execution_count": 32,
   "id": "b2b70a19",
   "metadata": {
    "execution": {
     "iopub.execute_input": "2024-05-30T07:50:09.346525Z",
     "iopub.status.busy": "2024-05-30T07:50:09.345759Z",
     "iopub.status.idle": "2024-05-30T07:50:09.356784Z",
     "shell.execute_reply": "2024-05-30T07:50:09.355558Z"
    },
    "papermill": {
     "duration": 0.045909,
     "end_time": "2024-05-30T07:50:09.358909",
     "exception": false,
     "start_time": "2024-05-30T07:50:09.313000",
     "status": "completed"
    },
    "tags": []
   },
   "outputs": [
    {
     "data": {
      "text/html": [
       "<div>\n",
       "<style scoped>\n",
       "    .dataframe tbody tr th:only-of-type {\n",
       "        vertical-align: middle;\n",
       "    }\n",
       "\n",
       "    .dataframe tbody tr th {\n",
       "        vertical-align: top;\n",
       "    }\n",
       "\n",
       "    .dataframe thead th {\n",
       "        text-align: right;\n",
       "    }\n",
       "</style>\n",
       "<table border=\"1\" class=\"dataframe\">\n",
       "  <thead>\n",
       "    <tr style=\"text-align: right;\">\n",
       "      <th></th>\n",
       "      <th>FloodProbability</th>\n",
       "    </tr>\n",
       "  </thead>\n",
       "  <tbody>\n",
       "    <tr>\n",
       "      <th>0</th>\n",
       "      <td>0.574114</td>\n",
       "    </tr>\n",
       "    <tr>\n",
       "      <th>1</th>\n",
       "      <td>0.457075</td>\n",
       "    </tr>\n",
       "    <tr>\n",
       "      <th>2</th>\n",
       "      <td>0.460000</td>\n",
       "    </tr>\n",
       "    <tr>\n",
       "      <th>3</th>\n",
       "      <td>0.465456</td>\n",
       "    </tr>\n",
       "    <tr>\n",
       "      <th>4</th>\n",
       "      <td>0.465581</td>\n",
       "    </tr>\n",
       "  </tbody>\n",
       "</table>\n",
       "</div>"
      ],
      "text/plain": [
       "   FloodProbability\n",
       "0          0.574114\n",
       "1          0.457075\n",
       "2          0.460000\n",
       "3          0.465456\n",
       "4          0.465581"
      ]
     },
     "execution_count": 32,
     "metadata": {},
     "output_type": "execute_result"
    }
   ],
   "source": [
    "predictions_df = pd.DataFrame(preds2, columns=['FloodProbability'])\n",
    "predictions_df.head()"
   ]
  },
  {
   "cell_type": "code",
   "execution_count": 33,
   "id": "1c04b7c8",
   "metadata": {
    "execution": {
     "iopub.execute_input": "2024-05-30T07:50:09.425781Z",
     "iopub.status.busy": "2024-05-30T07:50:09.425064Z",
     "iopub.status.idle": "2024-05-30T07:50:09.435480Z",
     "shell.execute_reply": "2024-05-30T07:50:09.434550Z"
    },
    "papermill": {
     "duration": 0.046804,
     "end_time": "2024-05-30T07:50:09.437564",
     "exception": false,
     "start_time": "2024-05-30T07:50:09.390760",
     "status": "completed"
    },
    "tags": []
   },
   "outputs": [
    {
     "data": {
      "text/plain": [
       "FloodProbability    0.0\n",
       "dtype: float64"
      ]
     },
     "execution_count": 33,
     "metadata": {},
     "output_type": "execute_result"
    }
   ],
   "source": [
    "predictions_df.isnull().sum()/len(predictions_df)*100"
   ]
  },
  {
   "cell_type": "code",
   "execution_count": 34,
   "id": "c614394e",
   "metadata": {
    "execution": {
     "iopub.execute_input": "2024-05-30T07:50:09.503927Z",
     "iopub.status.busy": "2024-05-30T07:50:09.503353Z",
     "iopub.status.idle": "2024-05-30T07:50:11.921966Z",
     "shell.execute_reply": "2024-05-30T07:50:11.920872Z"
    },
    "papermill": {
     "duration": 2.455423,
     "end_time": "2024-05-30T07:50:11.924874",
     "exception": false,
     "start_time": "2024-05-30T07:50:09.469451",
     "status": "completed"
    },
    "tags": []
   },
   "outputs": [],
   "source": [
    "predictions_df_f = pd.concat([files[0].iloc[:, 0], predictions_df], axis=1)\n",
    "predictions_df_f.to_csv('submission.csv', index=False)"
   ]
  },
  {
   "cell_type": "code",
   "execution_count": 35,
   "id": "aa5b5868",
   "metadata": {
    "execution": {
     "iopub.execute_input": "2024-05-30T07:50:11.990596Z",
     "iopub.status.busy": "2024-05-30T07:50:11.990170Z",
     "iopub.status.idle": "2024-05-30T07:50:12.282977Z",
     "shell.execute_reply": "2024-05-30T07:50:12.281906Z"
    },
    "papermill": {
     "duration": 0.328694,
     "end_time": "2024-05-30T07:50:12.285672",
     "exception": false,
     "start_time": "2024-05-30T07:50:11.956978",
     "status": "completed"
    },
    "tags": []
   },
   "outputs": [
    {
     "data": {
      "text/html": [
       "<div>\n",
       "<style scoped>\n",
       "    .dataframe tbody tr th:only-of-type {\n",
       "        vertical-align: middle;\n",
       "    }\n",
       "\n",
       "    .dataframe tbody tr th {\n",
       "        vertical-align: top;\n",
       "    }\n",
       "\n",
       "    .dataframe thead th {\n",
       "        text-align: right;\n",
       "    }\n",
       "</style>\n",
       "<table border=\"1\" class=\"dataframe\">\n",
       "  <thead>\n",
       "    <tr style=\"text-align: right;\">\n",
       "      <th></th>\n",
       "      <th>id</th>\n",
       "      <th>FloodProbability</th>\n",
       "    </tr>\n",
       "  </thead>\n",
       "  <tbody>\n",
       "    <tr>\n",
       "      <th>0</th>\n",
       "      <td>1117957</td>\n",
       "      <td>0.574114</td>\n",
       "    </tr>\n",
       "    <tr>\n",
       "      <th>1</th>\n",
       "      <td>1117958</td>\n",
       "      <td>0.457075</td>\n",
       "    </tr>\n",
       "    <tr>\n",
       "      <th>2</th>\n",
       "      <td>1117959</td>\n",
       "      <td>0.460000</td>\n",
       "    </tr>\n",
       "    <tr>\n",
       "      <th>3</th>\n",
       "      <td>1117960</td>\n",
       "      <td>0.465456</td>\n",
       "    </tr>\n",
       "    <tr>\n",
       "      <th>4</th>\n",
       "      <td>1117961</td>\n",
       "      <td>0.465581</td>\n",
       "    </tr>\n",
       "  </tbody>\n",
       "</table>\n",
       "</div>"
      ],
      "text/plain": [
       "        id  FloodProbability\n",
       "0  1117957          0.574114\n",
       "1  1117958          0.457075\n",
       "2  1117959          0.460000\n",
       "3  1117960          0.465456\n",
       "4  1117961          0.465581"
      ]
     },
     "execution_count": 35,
     "metadata": {},
     "output_type": "execute_result"
    }
   ],
   "source": [
    "sub = pd.read_csv(\"submission.csv\")\n",
    "sub.head()"
   ]
  },
  {
   "cell_type": "code",
   "execution_count": 36,
   "id": "c9030184",
   "metadata": {
    "execution": {
     "iopub.execute_input": "2024-05-30T07:50:12.352334Z",
     "iopub.status.busy": "2024-05-30T07:50:12.351583Z",
     "iopub.status.idle": "2024-05-30T07:50:12.362499Z",
     "shell.execute_reply": "2024-05-30T07:50:12.361461Z"
    },
    "papermill": {
     "duration": 0.047064,
     "end_time": "2024-05-30T07:50:12.364898",
     "exception": false,
     "start_time": "2024-05-30T07:50:12.317834",
     "status": "completed"
    },
    "tags": []
   },
   "outputs": [
    {
     "data": {
      "text/plain": [
       "id                  0.0\n",
       "FloodProbability    0.0\n",
       "dtype: float64"
      ]
     },
     "execution_count": 36,
     "metadata": {},
     "output_type": "execute_result"
    }
   ],
   "source": [
    "sub.isnull().sum()/len(sub)*100"
   ]
  }
 ],
 "metadata": {
  "kaggle": {
   "accelerator": "none",
   "dataSources": [
    {
     "databundleVersionId": 8121328,
     "sourceId": 73278,
     "sourceType": "competition"
    }
   ],
   "dockerImageVersionId": 30698,
   "isGpuEnabled": false,
   "isInternetEnabled": true,
   "language": "python",
   "sourceType": "notebook"
  },
  "kernelspec": {
   "display_name": "Python 3",
   "language": "python",
   "name": "python3"
  },
  "language_info": {
   "codemirror_mode": {
    "name": "ipython",
    "version": 3
   },
   "file_extension": ".py",
   "mimetype": "text/x-python",
   "name": "python",
   "nbconvert_exporter": "python",
   "pygments_lexer": "ipython3",
   "version": "3.10.13"
  },
  "papermill": {
   "default_parameters": {},
   "duration": 1054.303115,
   "end_time": "2024-05-30T07:50:13.223590",
   "environment_variables": {},
   "exception": null,
   "input_path": "__notebook__.ipynb",
   "output_path": "__notebook__.ipynb",
   "parameters": {},
   "start_time": "2024-05-30T07:32:38.920475",
   "version": "2.5.0"
  }
 },
 "nbformat": 4,
 "nbformat_minor": 5
}
